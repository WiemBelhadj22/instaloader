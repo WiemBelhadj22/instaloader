{
 "cells": [
  {
   "cell_type": "code",
   "execution_count": 8,
   "metadata": {},
   "outputs": [],
   "source": [
    "import instaloader\n",
    "import pandas as pd\n",
    "from itertools import islice\n",
    "from math import ceil\n",
    "from datetime import datetime\n",
    "from itertools import dropwhile, takewhile\n",
    "from instaloader import Instaloader, Profile , Post"
   ]
  },
  {
   "cell_type": "code",
   "execution_count": 51,
   "metadata": {},
   "outputs": [],
   "source": [
    "from instaloader import Story , StoryItem"
   ]
  },
  {
   "cell_type": "code",
   "execution_count": 57,
   "metadata": {},
   "outputs": [],
   "source": [
    "import csv"
   ]
  },
  {
   "cell_type": "code",
   "execution_count": 2,
   "metadata": {},
   "outputs": [],
   "source": [
    "loader = instaloader.Instaloader()\n",
    "loader.login('orthlane_w',passwd=\"orthlaner\") "
   ]
  },
  {
   "cell_type": "code",
   "execution_count": 34,
   "metadata": {},
   "outputs": [],
   "source": [
    "profile = instaloader.Profile.from_username(loader.context,'belhadj_wiem')\n",
    "#story = instaloader.Story(loader.context,'belhadj_wiem')\n",
    "#post= instaloader.Post(loader.context,dict,'belhadj_wiem')\n",
    "\n",
    "\n",
    "_username=profile.username\n",
    "_mediacount=(profile.mediacount)\n",
    "_followers=(profile.followers)\n",
    "_followees=(profile.followees)\n",
    "_igtv=(profile.igtvcount)\n"
   ]
  },
  {
   "cell_type": "code",
   "execution_count": 5,
   "metadata": {},
   "outputs": [],
   "source": [
    "posts = (sorted(profile.get_posts(),key=lambda p: p.likes + p.comments,reverse=True))"
   ]
  },
  {
   "cell_type": "code",
   "execution_count": 6,
   "metadata": {},
   "outputs": [],
   "source": [
    "_postsliste=[]\n",
    "_postsliste=list(posts)"
   ]
  },
  {
   "cell_type": "code",
   "execution_count": 7,
   "metadata": {},
   "outputs": [
    {
     "name": "stdout",
     "output_type": "stream",
     "text": [
      "[<Post Bhw5451ACcblDS4cJYalLlhB4b8KT-s_untwtU0>, <Post CV8kbJ7IQNTpQPbHe0A883ANPHvyVXV9rwVxlQ0>, <Post B94SEitJ4PsTpis4EqrtBykIES4qwXtLnxCIDM0>, <Post CYlpgnZIcY4qL9B0pTF1V9FbJ-h4yGN9ze-GAE0>, <Post CVu79Vnoq4mo_0Xsg9ybg2Fa6mSaVJ9DMsbJm40>, <Post BY-qtFQFi8B49iTSGK0gyIE2R10NQNh26lJOlk0>, <Post BYfT2e7lR2rkmZ-pKm6RwkYnfbiuZ4_TFs8n500>, <Post BdYGRLRFqPa4nfG9eeDjrZCVAGeZbN-gqNkAdw0>, <Post BrH62_iBHzYMwPTgj4QwRJDtfdel78izyoREGU0>, <Post Bkz6bb6gvSaZGbEVE0ycqNxv5-Dy-Q7iVI-_2M0>, <Post CDZRUfcJ4IJPo5752ubDab3OSBLUDbhGX_yUjI0>, <Post Bk5flFAA5prh_42nsC7YDrlk5pqjwiHvytb29M0>, <Post CY1k7jEoHv37azF1sJL8OIV8g3O-7DDtdR-C880>, <Post BYlKkHUFHV9ipn6U__OPD_KRw67GX6iFog0Ahg0>, <Post CQWxnJiB2lBjJtkdENAoAVJPwGxH4EYWDTyp_U0>, <Post Bhxu6-Ogsbxs3U0fhwVLHyYUWRbx4SPT48OK800>, <Post BqC1u09he9eT-1Nw4XrQWLl7j3DdsqT3WwO08Q0>, <Post Bhxh1aKAqhIOvZZMktbz3M0Yc6fXSzCPmQbj3E0>, <Post CQZdguThD86JJphdjzgBlwfyFcDtoyfXLfo7vI0>, <Post B4viCB3pNtJEnRCZTTGaiE1_Pp2kCvL_M4O4Hs0>, <Post Bln-YgBA5OMzYdyumUJaCW2NIzvhbmTDhTZO480>, <Post BcaXdAll8k6i-OgJUxKvl6ci2m_mjVyyr-WEn80>, <Post BiAvv8HgmUAQWL_1ZNXpHX5gtmuPFw0_AwwF980>, <Post CITmWCfhriwrz4XFirCkgwawcQNnWx9VzWT4vs0>, <Post Bk007svAXL9v1jq8MefaeqPi9MFRr0LaT9YT_o0>, <Post CVyU8UjI1eBfpugO6kktK1ot9Wlw9qUo8uUGr40>, <Post CMiS5FNh0Ha_Mdz3WhgobMrXNsaG069bVL3NAA0>, <Post BzG2zl3h0zrFy6L9wYbyeGHWoSA-fWRAOAOmcU0>, <Post CeYypDpoqegPNbFl3Lj5fonAeAbMg6XK-jxrM40>, <Post BWaxZ5DF8RNkiomYOKYiII0S0yXQzYyjHU2mSE0>, <Post CY4hc8DIV8_1UV24hjhVF-AzS7kMgwSybvcSsc0>, <Post BYfjlHtlF4bFCMFg-Kz4s3Q3G6pQ2SN9UalNAM0>, <Post CFphZxKJvIp-C09XQpjk-n3qBVq-K14EdL7g_Y0>, <Post CCbjVxApmLRzLMuvEq7jVcVuSUzyEjvawf26JM0>, <Post Bb7bEd_Fj-nEbBKC3MMPPIIZ1tXoyIzaGJviAQ0>, <Post CMcoULjB-kyX5Eaj7pBqYMgMCIDMAVYoSrsWUc0>, <Post BzZEQHRho2CcXz51Yk40X1AVfViUJ-dGN6KMYI0>, <Post Bh-Rno2Asth_U53T9QXOY0ntnv3C5cZ2tmWe8s0>, <Post CMsH57-hBuw9sv5hENtprRsweBqcTENbvxKQJc0>, <Post Bd7VOjYlMqrPnW2jrG7zeZzptzjXfjWcECp1kw0>, <Post CWgqQ4fIec74RD5FyCMzIgIdo4mrCmTRbZa8VA0>, <Post Bd3XRYLl9f6nn-y21NXPHsND9lgXMI0N_XyNN80>, <Post BZ1s8EtB0jkzYL5DpiYCJjsHrB1e6ixvNPm63s0>, <Post BZDID52FyEeAzYBoTZXmoebhlp2WG7ZgUdcZz00>, <Post CRitF-oJFYh6GgiMTpx_Dh2qhKFpd4gNUkeJHQ0>, <Post CQkBk7yBbJFozuK1HoV4OOA94uIj1opwPkcBkg0>, <Post CA5J9RAhimB2unP4fmcjGiATVLZFIAObZCym1Y0>, <Post BbjihucFWXzr--Zd6ClvoJDjiecbXTqW3noowY0>, <Post BWIg4FOltklIJQFiXDFxj5NPvAKolUhOtqoQSo0>, <Post Bk8Aq1TgpQ54zxBv7dzA2NxV3fb1817E7F-8xE0>, <Post BhyinxeAPWDwNyfY4JEqFFfQ3dhf662rT6xToo0>, <Post BcX0b5nlFrl9P6jOlE_O9Kl-9NDUXFBaHTIYtw0>, <Post CWl1n10ICaPb5bbp7raQPOBEEUx87KumrcibWM0>, <Post BpP0-21BDMHTzwLsBPuqsZqODaMWdDdZjaoh_Y0>, <Post CYuAKr-onvakIsIOpZgKuyBpMh7lzIUHTX93lY0>, <Post CDJgIjSJJ3zOApsW6VvijGHq9Tw32QyeBiVSxc0>, <Post BpKs82RBggDzoyOCO_O_s3aSUbicjYh2P8k3D40>, <Post Bj7oOhIgfRb-sHUD-wgK7fF08lGztdE21BmQRs0>, <Post CBzEGLUpqoi2HBDt0rxdSMp9zWtvmHau5ZOA6s0>, <Post B8e48IFJCczuYOdPA8_c7iwNuhb1dDQ1VJ0L-00>, <Post BTJfuQcFS-zSXeJH9lBudkv_zMk4Fr0brz5CMM0>, <Post CFiFjMbp5-dDsrHY5BREsp5Jmr-cQn9GrxYwQA0>, <Post CVG5u7JoJyM3f3efCl7OkOHiYXRXjFGpighBMI0>, <Post Bg_8y0BlR4aYZzcRP-6hrKG6BfdWw_5pnp6Ebc0>, <Post Bc7zjxSlkRiHGzw_fRP4eqI9uPswh7verZJAqQ0>, <Post CGgB1d9JKnCVfhAfMPEAqWaeWNegmuCljaSAWQ0>, <Post CC6L5MQJaXgyhRUbHj5XHoI4LOfJa2Aregbz9w0>, <Post BV2OXHwlW5JjVlLlBgGS_BE1dNEzaLIpmwzaFU0>, <Post CZCWbZ7IAyuLpN1RzvN-0Lboo_FAHZBsE8NCCU0>, <Post Bj_ORgYAMc-Jt6SxvtBEjTsxQjl2Wsuq9Otp3Y0>, <Post BZI1sMVlt6H8TU1skEv7jagMGYmjwpPtYy7I-c0>, <Post CYg_yR_oJwcFlB8Bu0pHJRFEKUnaaDBxr1IPoo0>, <Post CId9NTQhE9SnkYz_z9iT2KwZ4sUARcT0FyyxTc0>, <Post COJlQ6UB5Qz_Kec3jOcUTfbEv2GuNu5z5v4v3A0>, <Post B1BDjeTBmAAVeXRSzhqv0DmJl4xFBdKwjJB7is0>, <Post CX64t7eoTGuzOu2-tTONUKpbRzLFvq1mszL05Y0>, <Post CBfUPGqJUIVpGc4bQglNsSVN4n3iZhW7sE5SOA0>, <Post B639YRmp_i5mVW1-ZoLjfLMJL7-zlSFXXgxVwo0>, <Post Bi2gK5Xjdn3CwQqUKgNmtCqgWtVF7HhZQkd0Os0>, <Post Bfir_dpg9B5rWOy0c9LnRyMaPEPlF-suYdybpM0>, <Post BZej29klONxiiBHPMRqA8_iHoTRS0gpxuQ2RCU0>, <Post CbNsBsbIYzS01hCYrFcWWq9VQAmIUzT9U03sYs0>, <Post CJErG-6BjL_nrphdG7DjvU8ZGvN83ajcRuhz880>, <Post BiPvEPyAIYeACFk9W-_5kbkwSKtjUTV8JbcWkE0>, <Post BdVwE6SFeH6J72uS6bLAU5ClWl1N33pMQtL2uU0>, <Post CUlGb4oId5cd8xbCR0iJXoCj05nHqy3KBGGggk0>, <Post CD2V-_-pBD8nUJvWECwiULdGzd2T8SJ883vsHw0>, <Post BbhdBOmF6ZNj_48GdFi5x1gJd81ZiejLK6L7dw0>, <Post BjRgbApAbdET3Ug5NpThBzQ1G1rtAmd6bnahps0>, <Post BWKk3ySFpEKdXgktDNCI3APBG6icfmcP7ChLLk0>, <Post B2oEZ-IBuHQlSfcx9qv74XViRIYK9rF-puOBYs0>, <Post Bz5EcixB3Kv52tKtx9wUagg1wFDaxiH2vm34fc0>, <Post BmQ-WBggMQZ-XrBlgPnsH9E-TIOyU3eFHgbpA00>, <Post Bc92TUmFnnx0uLmwYQIM_0jo6S7lo52VNRtWek0>, <Post BUfEd0TFh8AcR1stz9-IFZzBX44fDyqx-ZyUzE0>, <Post CWRDTJEoSCzNbKnUCoLc4zK5NlH_kCetv7SZCE0>, <Post CT2eMIEIZX5dtP6CuUHiJUQOxdp04gD6tCop0U0>, <Post CIgTIHjB9GFE9oD-uZiqeGygpDjOt-Mc6JDSpk0>, <Post CA3hcIHpD5f16G-hswvsofq_9gsiYwX58r4V5M0>, <Post Bk2lFI4A2SikMJM5sPqEJN6YUiPeFuI1Q-Eyfo0>, <Post CWSqJmTIpik-B1S7fQ3kXg1ReGnHGkmucVIGEA0>, <Post CMhQQI6hAnf-uhBtaV8EI-BmYgtVXry7KOO3JI0>, <Post CMfqWWVh-GpbG_KTphEehRr5j-iRyUatMs86xM0>, <Post BqBSOfhBGmNRNXBuh0c7BYOoKYrWkYSdjXuABg0>, <Post BphA62eBLA6M2YmRhhBSv0ZrX8nhYEbWqJC3s40>, <Post BaTjeX1FqgKFLcjNHjHq9aveURLw4g7OGO4_fM0>, <Post CdQYHQmIAOOb1mrYSkHkYHvS1G3MJ-4lpvaqvI0>, <Post CYwu4i4I9mjHQ5uIVajWQvwToumwXo_2jBZ7tI0>, <Post CNLPz9VhbnRhs5yyIFa0cHQBLPnTETXJdw7WMs0>, <Post CDwLIqVJYK8poHEQZ-_qbmUFymd36w1V1qVv9k0>, <Post Bq3UKe4h3Vb8OQz4GWRjFCjb23Et46gtWmPzLs0>, <Post Bopc0DAgU9suwWY-uZqKTvIUXFv3d0YTNK4KJs0>, <Post BVOb0xFFpMXouH-IJcYDmX9CjnyI425h9cVaE40>, <Post CdEjBhJIO5Cfat8t3bvZ0iTNUPE9UCGPIHLcPg0>, <Post CD0_8RwppVV0a0gbfebgAm1T--ZvRu82rA5g9s0>, <Post Cd1fymYoPWtq65ZYJS8mnLBI3ugnEpHa8hUTw80>, <Post CZ6XxzzI6eYfIaDrmi99YjEUZEFNeXU0WcvhUE0>, <Post CUar862Iayt8IQ8kvLh5M-u3O1THhxDWJe9vH80>, <Post CCjmI4SpgkmTpAQlMlcI5PJDguTttEJNyCZ8n00>, <Post B-xE-OOJiuhkG9FT1nuHMN83GTOWGAX9a5z5hc0>, <Post B1BT7F2h9xke13AWDRIfwqQisfI6Mw6tdZ9B7c0>, <Post CfPgwwaovsJ737X3oCp5eub3gtfXhQE7YzNCJw0>, <Post BnM3kaPAh-y955G1oPOdzWEzlqno127zy2QCuI0>, <Post CfCqPH8IMsA5b9ACxPR9wv1dN1MK8mOD8cJFI00>, <Post CcRWYk9oOR724j0V9HQvp2WnGpi93p6I4IDmA40>, <Post CND0S1BhScxraNQf_01LTN8UkI0rT98iVl1pyY0>, <Post CFm49U-pZL46D3YasQJkCTdU8R8Cfx9C5JVp8w0>, <Post CT5jCLKo0LixMNlPNRebKNvHacwsUp3Zt1YzmM0>, <Post CIlTVUchODYb6XRZM_MC4HrqdSW8YLV8Nis1gI0>, <Post BcxwL8mlO3cQiIuar1s6ZCGpkZftCHPSwh1KD00>, <Post CanLa9IIHE0vXwYFvjwdPbWnSM0D9DJcA8nIYI0>, <Post CYW-JUIoiMjCJ8ICECPP2VOlnTRwR8iWTSXYQo0>, <Post Bc8Tx9_FLlCPzn5jJGafreJuyzPp75HKGidOk80>, <Post BZdp_-pFyHtuPmKCjRmo1VRBbG1BT2MYy25aaE0>, <Post Cb5xi2XIMVZ30J2Nc8-SFSONr2FGko_ft394200>, <Post CZFIv3GobxKje_WSCdixdp4EIIkA-JN-EIEvuA0>, <Post CUf-FrjIQq4gWfDVGLNLxVAapxUv-wnK5RDQWI0>, <Post CJeraUph7TOa9IzBQq9pY3Qe2Oj5Y3wQAtAj5c0>, <Post CFsY_alphRv79B9_op4RIHjdMRx2rk1KmzVH740>, <Post B8t5BBsJwCIaNUg34No4zCfdIg6pxx77mf_Ct80>, <Post CaiRfeqoreCowEdaHM84LjexOQSBf9usgBDDcM0>, <Post CYMncZVoUsrCF-clTiuSMcIM9GtzA7zTBtenEU0>, <Post CWVx5ILI2KoV3J-OEUCnqd-81M1sW6z-JaVPCc0>, <Post CJtT8P1BfRXKCCbMK93LRSSSwC9CcvAV8ozRDk0>, <Post CEKOwfZJFY4RJrAEL5XIQgG66Vk9BvMWuEDfzI0>, <Post CC_1U9-Jhwt4qgQc4wFoemdQz2CKmXKx3ixuqc0>, <Post BvmZ0XSBPLiueFBD-WkOF6UPsii2iBIZr3bBlk0>, <Post CZfTTzzI0Lm3SdtYgSQDauTqaleikYquiDaED40>, <Post CFkjoByJUThjvWHOZbtPESraw43OL_9KvZpXvo0>, <Post CAoX50Sp7HqEZ9Ai_xsfzNKmSz51BxgTmaWtSU0>, <Post B06LEyYBgHJ3f9XeNClts-4eoGsxIW-LodHPAY0>, <Post Bk_m7Mkgg43MAyeNBqXxxHsva64DkQ1P3Kw17E0>, <Post CWocwBtIZ1qXkkMJyz_Galix9n_UUcjSjVmP580>, <Post CHvwyoZBBShMokMYBs2mmdYdlCM9RUjkVCSpy40>, <Post CF-b2EbpLX-yXxTD0QVYEVQwXW2V3cas6mMHWE0>, <Post By4o_csB2LpCqvjwEoWAxfNOViqimb19wMs5CE0>, <Post CehHS-No5IjSFOccfrZbgIuUiX5iRaBzKjuNL80>, <Post CZ2Fyn6oDyr06r8MS8gUNqTsfKhQH_ni2Ku3sQ0>, <Post CU-WdniIBIKb9-vtSsb6cdjXTc4q9tOcCU-WpI0>, <Post CUyMXAroSS7RnjlERciYveyJldJoBDyMsaw-Fs0>, <Post CINx6AzpY2uSIz7CQZ7T2YF1JmNPsM9fBfE21c0>, <Post B0bJkLZh941Iuqi4czqXlK_Yog_fnk_X7iMkQA0>, <Post BZJuU9hl25tf8Sk8xQYrRy1r-tI22HJL-9rAkU0>, <Post CdtwaIBIlhozh4MMwvo9XhcxK_KjNwt75tQmTA0>, <Post CFaAb3VJ8FtxZ5lfqyI7-pq0FiEdYlkd_7zINA0>, <Post B_nyu7fJDY-UWwQQGhmrm3nNj4fQL8so3hGjS40>, <Post BgY48jwhntiNtjNS7XrGHUvOawPF8gNFMh_-Hk0>, <Post CbxIwZ4IdyllwYnzjpC4KF7BtYkS1GmPt9mSrs0>, <Post CXil2LhogFPQpWOa1YPQ0wm1MqisXdy4rL5x7M0>, <Post CU0dsv7oehybjWb6qK13I1G75wx1oDcTU8Px940>, <Post CE2J3S5JlxiLynjiXc_IRnyywFh03_DbP8Ve880>, <Post B87Ec4YJDRDzpt50gPnjddAq1eXMx3wXHDiOBQ0>, <Post CUCtS9ko6lsqlSk3qM4pD88baoPzwqA3FquAVo0>, <Post CThbS7VoZqlzqoFn2PSDmWhIm3YLYJHdQgqwzQ0>, <Post CKYhGLNBOqTee1AZKPw9IjBdskXrJoIXkedDzo0>, <Post B7CJbPCpY_awPRjfIFcu1PwSiWN33JH-kSyM3g0>, <Post B3vK1mvpe-sqaXg52Ht_yoM6gvGms7C6_MVePs0>, <Post By_JFS6hwRRzH_qUMU6_Bt8AUULrN6xsUgbQmY0>, <Post BglfO-3h8Q9isuPUkU3XRlJiovE0r0IBI6O0eA0>, <Post CXwFjr4oile4RRL35HVQv74MUf8qBrRpEOm7RI0>, <Post B8AKtcWJuDoZ5UcVqR-nZ8INtA-rBejVE82Pbc0>, <Post B78OpIbpdvvcVgNP5V6gVqaoVvF6rHQJxT3v4Y0>, <Post B5DKNFPhf8Lmr1EnYqEds000qYk7WMCme6qnQs0>, <Post BLoiqh5jQoshkg4ZInubfD8ynvAv2taAQfL4kE0>, <Post CYKiTU_ID_IQN1-sHYbAl_Qf3foY2bOM47ODZE0>, <Post CX_7tLGIryPSZt3IdG2le7WZhIuIIUi2uCWtK80>, <Post CXquXu8o0nfUiOQWrGN-gFSar_IYSkuBEbu2BM0>, <Post CSXD9irIabzU7Syo1TYk0tZMaqF33VULXauCRc0>, <Post CM4BSsuhdQtnj6_zCRMtAem9zsc0ISHp80Co7w0>, <Post B9640w8pcOBOUULReDauSHog-T7UiL_3k9OTGk0>, <Post Bk7_nE8g56VQ6I66K1NRhzEZaihEmTvhPJOtG80>, <Post Bh9UxOEgSE-C6RX2IWLx3JEdrJYjpbmTA2ZKnE0>, <Post BT7ROc_FrzlrCkeSdSp2atq4pjI7TGpR5k1R8s0>, <Post CTaXhbpIZ8Gz2ynaGcoJG2oj3BQmbV2DEX6qb40>, <Post CAkO9JeJNzvwvnUTeFAkhMt6qONwOrOa_1yrKI0>, <Post B0IJZpfhyXfo5gOQLJ2yETFOCdvi6nZxanh4Hk0>, <Post Cemcsg-olgD1TpPFh8yaIMwsEZUlCLMDUvcGy80>, <Post CbdUxxkoeGghDZTpcZNpk8G1TT6p2Y3fba5M3A0>, <Post CSRjcd0IrW3rKN4KBrwoAWuGEIenCd7xwhcl3M0>, <Post CP1eF1oBTOow5AqdF4qtQrDuWe8xSuHbv4UzxQ0>, <Post Bk7M6hqAE6ZSQCb_CRRalC32UCrIjsodO32aHg0>, <Post CaRuJ-HIKJ05PZWVPaG7YmfXy9uj8y9MfIDh2c0>, <Post CZ7tFSkIfwJm-RObqyt7_nEVy4ahtGPZWjVryI0>, <Post CL40nXFBX01YK8tmVOnLdhqZ42kvPWq1lToTPA0>, <Post CBBsoYkJL0rRPONlSmRMoUpxyif2JP9NQOha5U0>, <Post BzWANQOBaLs9KvS9LKWkdaiZUSw2SrAIvF-Ibk0>, <Post BxutQqyhBIqjtPWrFNu_Caqt220yuumVWCXoB80>, <Post CXBcjJWoMl5JWMyYbAPF7P8mYh6eKondcQDjC40>, <Post CR9J1Tlor6tuqrw-KxeoAruXQpvDavHRiE-rh80>, <Post CNIvfcNh16S1gTPkgMrPfnzw-neinif_36s5D00>, <Post CGCMvC4pyoHMwBXGqr8gZf4wV9aj5b1eEopTms0>, <Post CD7FV9CpPYVxQePDVbPTZ1Ez03lC64e3jXUXnM0>, <Post B0toAGxhHvZfy5QvFEmboIurfUZ78-82USAHtA0>, <Post BevvW1JlghKbDXVDZmaqdwOfJusOtbZrs78SCk0>, <Post BV8h50oldBvLtOIH6Zi78boMOPvn91hjGVYCbk0>, <Post BPnL6xdDmFiU99XNhbKFbmChYAtLJub-jdbuDY0>, <Post _Hr0A9NMqg6aqiLLtH5D7YrvM8SlKCK2YC4Lc0>, <Post CeMDoq_of311lRbcp9IB9dXmQelf1HFK6NsHow0>, <Post B9zrvAGJlxbAM9A1Gnfe0-MvfPpkAhRCHmDuf80>, <Post B0IE-w2B9TrzXC3LnUPh8X3is08_ogPfzhfHPs0>, <Post CS1mQ9so05Uvt0ukaRlm6tfc_eBn33PnLFSZdQ0>, <Post CGiThwBpFUfvUrrP1Q_tzOmb_H-6FJosyK2_rQ0>, <Post CU2w6IeINV6fD7hxcFE6Dj4Z1dF2ibBljIOyls0>, <Post CQ5sosVprWaDlmO0Qhz71us6-SZJ1JS6NW-b5g0>, <Post CESDSvxJKKV0qA27FEreXdnHBBFuvBS1o3ag8Y0>, <Post BuO6091hhOajPxUWlBHW6XBwdxTO0ern0FT0K40>, <Post BXpnpTdloO1o7sVUVgtiiUucENNyB9m8iHsd2A0>, <Post BDivPeltMk_UmB3SW6WGa5OQXuih6e1RYBW_V00>, <Post CWMFu4nozWZ7sJ_htIoQ_ysWCKeJa8odqCtSaA0>, <Post CL1_mNBhNar_a947K-HdgtnvxR44drUbR2ODkA0>, <Post By8_ZfiBuCQOWXNSQkT_5niu_dSUU52X7qhc1g0>, <Post Caxx_ltIPyIdpatZuqLjDoO2ObbG7GEJ_YRX2U0>, <Post CPTTLi5hj0dLvKgDP_yvK4ERYQJUjmtiusi0R00>, <Post CO0oYcphyoTw_fgDBOIOzCUZD_OKJBclRON7JM0>, <Post CFSyAKnJwaiCsK9MFh91iFQZ_mMzi-S74oYPJI0>, <Post CDbED6bpkguxJiZBtiGGcL47EVP6EJwrY5SF3w0>, <Post BqBTkChh9fPmw5vGfET9VZLeTuyJBDctgDi5ws0>, <Post Bk2h8QEAQG_7nu6hPcVeC8rsXqcZAXEzWmTa2o0>, <Post CZfO1ONIamtM1wa5_U_9YbeAhMmYe0NpwMEb0I0>, <Post CSgxtZiohZN1g4E6lwl790MuS4QBWIdkfBh8G80>, <Post CSZVEYzFxPXLabSqwdxQOS9vtR9tsYiq_Cu8qo0>, <Post CD6tgJZpJ5_kBy8JwXQKa-66IN49qjjqFkROcs0>, <Post B37pjdWp9kRovTRN3fnDTBVaXHQEmR0sqM0RkU0>, <Post BltFeg9ggFyi2xj7LuMOKEnPeEWwIQiUwmnPOE0>, <Post Bk8UkcNAFUuuSRNX1eoLgs0cQEyG2NYaxGgEQw0>, <Post BPX9KRgFumjy3Sgn2eVKD3f9DOFPkOluJhycRw0>, <Post BebQUGMlcQ6r_Op7buyGJq-cABXosf0Qo3_qAg0>, <Post BXi12GZlr0XomcEh-qB1ZeGp4WNZeYau7H_agw0>, <Post CLKb7j3BD18h6Ba4URi7aLrhdb2IuJHOrKtFVw0>, <Post B4YfqyLpD4vB0S9cjdMi-OO7uc8Emi6jdBWOBY0>, <Post CQRor3aB-SiMkhYOFLFHLwgdlLl3IzbTEXjKB80>, <Post CJZOyNihshJkT_arhvDsPAsKdY1bf-DJ92fOuM0>, <Post BwhoLAiBIwwJJDBQSV4nwxMwBMNLDtDee9Bp1U0>, <Post Bkawr8Fg9dlyQL-c6Z1_jxZQDpBzPeYO2MBbVg0>, <Post BgWUrzvh6xIpbGHcYiZU3jty9gpU1Wdu2P4x-g0>, <Post BC0pzNhtMh6MIgxLhptvPeqnjTxO3dlKGulOLI0>, <Post CEcrZhpJu-o0HOdbGQJtvjZWiJd18wzFymJGMQ0>, <Post CDTcmZzpsCBLKkmx8-5BeB7Wn3Te0SQFfIFXJc0>, <Post CDCPygkJQ0AzKthMy2pSU0P537dOseRXtkaFcA0>, <Post Bo7u8hthNniet5CPgDAuGRUdCghHoFZd8lW7hY0>, <Post BHZo5BODIkzxcOfoLd_nm5lUQHOVfJ_SeGhScU0>, <Post CeWaiWnI7qRV2Jd-kIgBy4fujN3TeUQYFb_EIo0>, <Post BvXac70hJUE6hGYHdEv8AvJsgLqD4JBSwVTNLM0>, <Post BoyJAt9hWrpeQvMM3eWIenzy5N3Iw9aFizXbi80>, <Post CEU_qHhpOwHHgRc4hxsS7WM3AJtsh59X09C-TI0>, <Post CEIOStPJENAS62ugFni40EkbObduzKCmGQ3m5I0>, <Post CD3uxiNJdN7DZz8_v1y2TsBxvgbBxcxdi6zbcY0>, <Post BkxDPa0gwFWIVEpWzf-r-JEo2y350tLqhhjhgU0>, <Post BQbGJc9DtC19VMdjw3kMrQC2u8msgdVpznAVGA0>, <Post CZU5FsooVz2vHt32OCr19PmrniGoPmIMaZUwD40>, <Post CGQnZMRJZqmINzgiWjm8CPLlTC8qInUERq-3Pk0>, <Post BlBvYGagLr96-hc8cF4jos8a3sqP6D7C_PD1Ts0>, <Post BkaZLTKgdyfaUd4X6p5jz5nkvKSffPWE5sKYLU0>, <Post CV0DXvNIxGNRPibf9ysl7r-sOeXOsXKguBBW1U0>, <Post CQ66VreJDYFcEW0ZLDOl0CvfqMyPTpY3kajKsU0>, <Post CPOXTMKhCFJagZrlT-kyd6MbGu6M536pR_Mh_w0>, <Post B03QSs8hhmqZ9-Q017gOsljV_ikvWac-4BwGsc0>, <Post B0HCbiZhx5FWCQmsVqCqpLWuuAzHtSWDmjQTWU0>, <Post BYed_hPlhqTl-DyL3mspRja2z7wCnItoOZNpwk0>, <Post BHsbiNRD7U7-3b6IQJ0E7I4tiZZXzos8LuAFNQ0>, <Post BnG_pjbgyRSXW4cKExvEhCpM_qoaIKSL_TWFR00>, <Post BmQK4ZTA1tqLQWoDGXdv_1jeOsm3AO1HX5Hz8k0>, <Post -oFxAWtMhj7QeozATXLc0dZPtDJ4hHSELLTqA0>, <Post B8_qFR-ptkaExHMEHTMrrrYgqlhUUQbO_tv27M0>, <Post Bylw1DLhva5FvQNsCTK8gb_QlvjLvAIEdY6K5A0>, <Post Bj5s_WAAAVzbWEm_9nkdcnAcDs2kptJyz7UIo00>, <Post BNj0LhSjInai_Y7liA8OrdGex1P4LawsyGqTpc0>, <Post CcBxsfoIQ31xsbCs1M7-k2jWoneY6YfKn6tBMo0>, <Post CXZQichIwXOX4SZpUCxDd5PzliXpuGRWDzeIOE0>, <Post CWjImy4IwNPndqiICVUiPk9W_5eK9C83L_gmvc0>, <Post CVXZ-QPoESezLZqEAuWAjBjXN_EwEslED2oc3Y0>, <Post CQrqN35p90Ltry5Ps7Y94Tn9OhAdYB6o4uP4Is0>, <Post B0ZZxCqhIy94R62zuI_rSLPKm23WTNVn_NA5cA0>, <Post BXuwOI9lW4Aez1aZi-y4NDsMrUeKT_MhKoDDPw0>, <Post BDfbvBwtMjfzsDabRMYnEK_CEIZtsnR5Zdko3A0>, <Post Cb_AXE9oQVOFHUVwk7sT_J9ClIIm0mZqO7rwpg0>, <Post CF7OHMhJ94ChAntobCbFBFI-0OFOEC1QSRgF1k0>, <Post BP53s9AjC6GS88qp7o8bOBXAMa1OSyV6HfWM-U0>, <Post CO5Q6-YBr5jNjDFIIWOjdDqybk3sfva7ShQfrY0>, <Post BX4DCxFFxxZmk6vSCHNYRCnp-2tJjJPOXiLMlE0>, <Post BE4aS9-tMkWG0JXKhSWM7w9e0NarcEJUIShOZw0>, <Post CWlNJsNIOSwHBIvXZohzY74uakOdoseZau7FUw0>, <Post CMZdRmEhBcwm--AoNZ5Uru40MxAqvSKqBAOX-Y0>, <Post Bhz_0GwAnFH1zguIGwfokFpiKh4P7Sr1asIz5s0>, <Post BWdSafrFZewzydrneq9hy0oD0rbwfuVAfq11bY0>, <Post BR27dSjlh6gdp-MMEfh3fj7gp9RIl_yFso_hvg0>, <Post BlG4I9kg1HB8LgXmPRGHTT2vJ1L8oLIEeUqpfU0>, <Post BonWfMphkbln0YCtYtuUfo4kHzp3-DPgVofkNI0>, <Post B1FB_MDhA7RzEdVlOz4sf6zqMhmfl840AnR3hY0>, <Post BK_y-E5jZgNZQL1CJIEjicqhlrbs7Z8RJMLB300>, <Post CIJL8LFpjyXSiy2YjTpBxT7XMx3YW0uh8X4P_Q0>, <Post CHnyUlYJSlM-AhbLbLJBkJ0hqhj4xksNIn7Zxk0>, <Post BYJQJqoFFFNJalD3BWWmvQXCmdHHID7kWriruA0>, <Post B2b3ewehbdBi1z_ym052RMGiSMlWulPsaIM2dw0>, <Post BSdShFBFyUgvl-2gpAhTYFuyUoPjsIyiuHL-uk0>, <Post CGfkzeWpKhGcc2CxgARpNpwWnBs3rsASM904ok0>, <Post Cfli1x7o7DeuxG4IRsyiainh3ry5pcNMqXA11A0>, <Post CYCkeyLISPQtws8Y69Ker9cNB-rtdI5PdcW10w0>, <Post BFTFfMytMg4CR8v_3_SavnKtSo_lFtamPbNdT40>, <Post CLr1jkcBfNRQRbluAs4oql4ZYQ624SZxUhrrUM0>, <Post B0uap-wB1q2pEhwCnhclEW82XozUiMEogsjWK00>, <Post COLClqvhWtX50iTo4KmTIg9Oc7b8iYa-Cow0Zg0>, <Post B0t8eK6Ba-XgZlmqiqvuu3c4tENfs-lQMRfKEM0>, <Post B0j5HLFJcJvyn7tHtW7zE6MljI7xx1X6-AJ2yI0>]\n"
     ]
    }
   ],
   "source": [
    "print(_postsliste)"
   ]
  },
  {
   "cell_type": "code",
   "execution_count": 38,
   "metadata": {},
   "outputs": [],
   "source": [
    "post = Post.from_shortcode(loader.context, 'Caxx_ltIPyIdpatZuqLjDoO2ObbG7GEJ_YRX2U0')"
   ]
  },
  {
   "cell_type": "code",
   "execution_count": 39,
   "metadata": {},
   "outputs": [
    {
     "name": "stdout",
     "output_type": "stream",
     "text": [
      "<generator object Post.get_likes at 0x000001C2484C4660>\n"
     ]
    }
   ],
   "source": [
    "L= post.get_likes()\n",
    "print(L)\n"
   ]
  },
  {
   "cell_type": "code",
   "execution_count": 40,
   "metadata": {},
   "outputs": [
    {
     "name": "stdout",
     "output_type": "stream",
     "text": [
      "<bound method Post.get_comments of <Post Caxx_ltIPyIdpatZuqLjDoO2ObbG7GEJ_YRX2U0>>\n"
     ]
    }
   ],
   "source": [
    "print(post.get_comments)"
   ]
  },
  {
   "cell_type": "code",
   "execution_count": 41,
   "metadata": {},
   "outputs": [
    {
     "name": "stdout",
     "output_type": "stream",
     "text": [
      "None\n"
     ]
    }
   ],
   "source": [
    "print(post.location)"
   ]
  },
  {
   "cell_type": "code",
   "execution_count": 42,
   "metadata": {},
   "outputs": [
    {
     "name": "stdout",
     "output_type": "stream",
     "text": [
      "None\n"
     ]
    }
   ],
   "source": [
    "print(post.title)"
   ]
  },
  {
   "cell_type": "code",
   "execution_count": 43,
   "metadata": {},
   "outputs": [
    {
     "name": "stdout",
     "output_type": "stream",
     "text": [
      "[]\n"
     ]
    }
   ],
   "source": [
    "print(post.tagged_users)"
   ]
  },
  {
   "cell_type": "code",
   "execution_count": 44,
   "metadata": {},
   "outputs": [
    {
     "name": "stdout",
     "output_type": "stream",
     "text": [
      "47\n",
      "0\n"
     ]
    }
   ],
   "source": [
    "print(post.likes)\n",
    "print(post.comments)"
   ]
  },
  {
   "cell_type": "code",
   "execution_count": 45,
   "metadata": {},
   "outputs": [
    {
     "name": "stdout",
     "output_type": "stream",
     "text": [
      "2.462022001047669\n"
     ]
    }
   ],
   "source": [
    "engagement=(post.likes/_followers)*100\n",
    "print(engagement)"
   ]
  },
  {
   "cell_type": "code",
   "execution_count": 46,
   "metadata": {},
   "outputs": [
    {
     "data": {
      "text/plain": [
       "False"
      ]
     },
     "execution_count": 46,
     "metadata": {},
     "output_type": "execute_result"
    }
   ],
   "source": [
    "post.is_sponsored"
   ]
  },
  {
   "cell_type": "code",
   "execution_count": 47,
   "metadata": {},
   "outputs": [
    {
     "data": {
      "text/plain": [
       "'Messy hair ? As if I care 😏'"
      ]
     },
     "execution_count": 47,
     "metadata": {},
     "output_type": "execute_result"
    }
   ],
   "source": [
    "post.caption"
   ]
  },
  {
   "cell_type": "code",
   "execution_count": 48,
   "metadata": {},
   "outputs": [
    {
     "data": {
      "text/plain": [
       "datetime.datetime(2022, 3, 6, 22, 41, 21, tzinfo=datetime.timezone(datetime.timedelta(seconds=3600), 'Maroc (heure d’été)'))"
      ]
     },
     "execution_count": 48,
     "metadata": {},
     "output_type": "execute_result"
    }
   ],
   "source": [
    "post.date_local"
   ]
  },
  {
   "cell_type": "code",
   "execution_count": 49,
   "metadata": {},
   "outputs": [
    {
     "data": {
      "text/plain": [
       "'https://instagram.ftun9-1.fna.fbcdn.net/v/t51.2885-15/275162766_476402943965442_6095811487315077196_n.webp?stp=dst-jpg_e35&_nc_ht=instagram.ftun9-1.fna.fbcdn.net&_nc_cat=106&_nc_ohc=MUtjJsaO7pgAX88FHgC&edm=ALQROFkBAAAA&ccb=7-5&ig_cache_key=Mjc4ODIyOTUxODQxMDcxMDE1Mg%3D%3D.2-ccb7-5&oh=00_AT8RU9RXnSkEcI6fihCC3_BuhQXQlXSFPmf-nbS9e16kFg&oe=62CBDB08&_nc_sid=30a2ef'"
      ]
     },
     "execution_count": 49,
     "metadata": {},
     "output_type": "execute_result"
    }
   ],
   "source": [
    "post.url"
   ]
  },
  {
   "cell_type": "code",
   "execution_count": 50,
   "metadata": {},
   "outputs": [
    {
     "name": "stdout",
     "output_type": "stream",
     "text": [
      "None\n"
     ]
    }
   ],
   "source": [
    "print(post.video_view_count)"
   ]
  },
  {
   "cell_type": "code",
   "execution_count": 53,
   "metadata": {},
   "outputs": [
    {
     "name": "stdout",
     "output_type": "stream",
     "text": [
      "：stories\\2022-07-04_19-47-58_UTC.jpg json \n",
      "[<generator object Story.get_items at 0x000001C2484CC510>]\n"
     ]
    }
   ],
   "source": [
    "stories=[]\n",
    "story = instaloader.Story(loader.context,'belhadj_wiem')\n",
    "for story in loader.get_stories():\n",
    "    # story is a Story object\n",
    "    s=(story.get_items())\n",
    "    stories.append(s)\n",
    "    for item in story.get_items():\n",
    "        # item is a StoryItem object\n",
    "        loader.download_storyitem(item, ':stories')\n",
    "print(stories)"
   ]
  },
  {
   "cell_type": "code",
   "execution_count": 54,
   "metadata": {},
   "outputs": [
    {
     "data": {
      "text/plain": [
       "<bound method Story.get_items of <Story by belhadj_wiem changed 2022-07-04_19-47-58_UTC>>"
      ]
     },
     "execution_count": 54,
     "metadata": {},
     "output_type": "execute_result"
    }
   ],
   "source": [
    "story.get_items"
   ]
  },
  {
   "cell_type": "code",
   "execution_count": 55,
   "metadata": {},
   "outputs": [
    {
     "data": {
      "text/plain": [
       "1"
      ]
     },
     "execution_count": 55,
     "metadata": {},
     "output_type": "execute_result"
    }
   ],
   "source": [
    "story.itemcount"
   ]
  },
  {
   "cell_type": "code",
   "execution_count": 56,
   "metadata": {},
   "outputs": [
    {
     "data": {
      "text/plain": [
       "'belhadj_wiem'"
      ]
     },
     "execution_count": 56,
     "metadata": {},
     "output_type": "execute_result"
    }
   ],
   "source": [
    "story.owner_username"
   ]
  },
  {
   "cell_type": "code",
   "execution_count": null,
   "metadata": {},
   "outputs": [],
   "source": []
  }
 ],
 "metadata": {
  "kernelspec": {
   "display_name": "Python 3.9.7 ('base')",
   "language": "python",
   "name": "python3"
  },
  "language_info": {
   "codemirror_mode": {
    "name": "ipython",
    "version": 3
   },
   "file_extension": ".py",
   "mimetype": "text/x-python",
   "name": "python",
   "nbconvert_exporter": "python",
   "pygments_lexer": "ipython3",
   "version": "3.9.7"
  },
  "orig_nbformat": 4,
  "vscode": {
   "interpreter": {
    "hash": "ad2bdc8ecc057115af97d19610ffacc2b4e99fae6737bb82f5d7fb13d2f2c186"
   }
  }
 },
 "nbformat": 4,
 "nbformat_minor": 2
}
