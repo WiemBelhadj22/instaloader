{
 "cells": [
  {
   "cell_type": "code",
   "execution_count": 1,
   "metadata": {},
   "outputs": [],
   "source": [
    "import instaloader\n",
    "import pandas as pd\n",
    "from itertools import islice\n",
    "from math import ceil\n",
    "from datetime import datetime\n",
    "from itertools import dropwhile, takewhile\n",
    "from instaloader import Instaloader, Profile , Post ,InstaloaderContext\n",
    "from instaloader import Story , StoryItem , Hashtag, FrozenNodeIterator\n",
    "import csv\n",
    "import json\n",
    "loader = instaloader.Instaloader()"
   ]
  },
  {
   "cell_type": "code",
   "execution_count": 2,
   "metadata": {},
   "outputs": [],
   "source": [
    "profile = instaloader.Profile.from_username(loader.context,'onelife759')\n",
    "story = instaloader.Story(loader.context,'onelife759')\n",
    "context=instaloader.InstaloaderContext(sleep=True, quiet=False, user_agent=None, max_connection_attempts=3, request_timeout=300.0, rate_controller=None, fatal_status_codes=None, iphone_support=True)\n",
    "#post= instaloader.Post(loader.context,'luxeat')\n",
    "\n",
    "\n",
    "_username=profile.username\n",
    "_mediacount=(profile.mediacount)\n",
    "_followers=(profile.followers)\n",
    "_followees=(profile.followees)\n",
    "\n",
    "loader.login('Wiwiyet',passwd=\"Wiwiyet1234\") \n",
    "#posts = (sorted(profile.get_posts(),key=lambda p: p.likes + p.comments,reverse=True))\n",
    "posts =profile.get_posts()\n",
    "#iter"
   ]
  },
  {
   "cell_type": "code",
   "execution_count": 4,
   "metadata": {},
   "outputs": [],
   "source": [
    "_postsliste=[]\n",
    "_postsliste=list(posts)"
   ]
  },
  {
   "cell_type": "code",
   "execution_count": 5,
   "metadata": {},
   "outputs": [
    {
     "name": "stdout",
     "output_type": "stream",
     "text": [
      "[<Post CeVli6DKEBI>, <Post Ce_rxF1Kf75>, <Post CgPnCgJKHAm>, <Post CgL39Qbq8fw>, <Post CgEI3WuqeTM>, <Post CgBuf1IqRNx>, <Post Cf46kKoKXSV>, <Post CfySYX4q3io>, <Post Cfq6V-OKb5t>, <Post CfozijPqTFZ>, <Post CfmaSbtq9Ut>, <Post CfjZqDbqUsB>, <Post CfY7GN9Kjd5>, <Post CfRoYr6Kad7>, <Post CfB6GPwK73U>, <Post Ce6NlDgKAnD>, <Post CeyI6OeKtt1>, <Post CewIaU9quPB>, <Post CerQF-_qx2n>, <Post CelQ6Wdq_FP>, <Post CeMM0UZKVzy>, <Post Cd77O0lqMwM>, <Post Cd5TlCiqwUL>, <Post Cdks_QJKKSw>, <Post CdfqL0LDt3->, <Post CdVNtmZK00G>, <Post CdLQzAoKFXW>, <Post CdCJXYQqJRT>, <Post Cc8aFOMKcbp>, <Post CcsvME9qvlg>, <Post CcAzrCTqLly>, <Post CbwsL9_q8ey>, <Post CbnfOqyqxIb>, <Post CbatDzCgYWz>, <Post CbVnx51qneP>, <Post CbA7LKYqqpu>, <Post Cau5vIlq3ci>, <Post CanTSDcql3r>, <Post CaVIellK65C>, <Post CZuYD9UqVA5>, <Post CY8xGahK7RC>, <Post CY48ZdYqeyA>, <Post CXHgvrWqRqN>, <Post CWVhI-kMd10>, <Post CWJFWJEqr0X>, <Post CVidI4HMI6_>, <Post CVYRnNVMqrI>, <Post CVOBFcnIWvH>, <Post CUajOciMyYF>, <Post CUL2mhfq6d6>, <Post CTIPSYPiRTd>, <Post CR6xdz6CFEt>, <Post CRex3fXhACQ>, <Post CQnmGvZhtQR>, <Post CPjbfpUB0Xo>, <Post CNx9tD8h8hG>, <Post CNdWtELBpvO>, <Post CE2NkCiiZn7>, <Post CEXBS_GiSbG>, <Post Bxm1bWQIWW9>]\n"
     ]
    },
    {
     "data": {
      "text/plain": [
       "instaloader.structures.Post"
      ]
     },
     "execution_count": 5,
     "metadata": {},
     "output_type": "execute_result"
    }
   ],
   "source": [
    "print(_postsliste)\n",
    "a=_postsliste[0]\n",
    "type(a)"
   ]
  },
  {
   "cell_type": "code",
   "execution_count": 6,
   "metadata": {},
   "outputs": [
    {
     "name": "stdout",
     "output_type": "stream",
     "text": [
      "<Post CeVli6DKEBI>\n",
      "<Post Ce_rxF1Kf75>\n",
      "<Post CgPnCgJKHAm>\n",
      "<Post CgL39Qbq8fw>\n",
      "<Post CgEI3WuqeTM>\n",
      "<Post CgBuf1IqRNx>\n",
      "<Post Cf46kKoKXSV>\n",
      "<Post CfySYX4q3io>\n",
      "<Post Cfq6V-OKb5t>\n",
      "<Post CfozijPqTFZ>\n",
      "<Post CfmaSbtq9Ut>\n",
      "<Post CfjZqDbqUsB>\n",
      "<Post CfY7GN9Kjd5>\n",
      "<Post CfRoYr6Kad7>\n",
      "<Post CfB6GPwK73U>\n",
      "<Post Ce6NlDgKAnD>\n",
      "<Post CeyI6OeKtt1>\n",
      "<Post CewIaU9quPB>\n",
      "<Post CerQF-_qx2n>\n",
      "<Post CelQ6Wdq_FP>\n",
      "<Post CeMM0UZKVzy>\n",
      "<Post Cd77O0lqMwM>\n",
      "<Post Cd5TlCiqwUL>\n",
      "<Post Cdks_QJKKSw>\n",
      "<Post CdfqL0LDt3->\n",
      "<Post CdVNtmZK00G>\n",
      "<Post CdLQzAoKFXW>\n",
      "<Post CdCJXYQqJRT>\n",
      "<Post Cc8aFOMKcbp>\n",
      "<Post CcsvME9qvlg>\n",
      "<Post CcAzrCTqLly>\n",
      "<Post CbwsL9_q8ey>\n",
      "<Post CbnfOqyqxIb>\n",
      "<Post CbatDzCgYWz>\n",
      "<Post CbVnx51qneP>\n",
      "<Post CbA7LKYqqpu>\n",
      "<Post Cau5vIlq3ci>\n",
      "<Post CanTSDcql3r>\n",
      "<Post CaVIellK65C>\n",
      "<Post CZuYD9UqVA5>\n",
      "<Post CY8xGahK7RC>\n",
      "<Post CY48ZdYqeyA>\n",
      "<Post CXHgvrWqRqN>\n",
      "<Post CWVhI-kMd10>\n",
      "<Post CWJFWJEqr0X>\n",
      "<Post CVidI4HMI6_>\n",
      "<Post CVYRnNVMqrI>\n",
      "<Post CVOBFcnIWvH>\n",
      "<Post CUajOciMyYF>\n",
      "<Post CUL2mhfq6d6>\n",
      "<Post CTIPSYPiRTd>\n",
      "<Post CR6xdz6CFEt>\n",
      "<Post CRex3fXhACQ>\n",
      "<Post CQnmGvZhtQR>\n",
      "<Post CPjbfpUB0Xo>\n",
      "<Post CNx9tD8h8hG>\n",
      "<Post CNdWtELBpvO>\n",
      "<Post CE2NkCiiZn7>\n",
      "<Post CEXBS_GiSbG>\n",
      "<Post Bxm1bWQIWW9>\n"
     ]
    }
   ],
   "source": [
    "for i in _postsliste :\n",
    "    print(i)"
   ]
  },
  {
   "cell_type": "code",
   "execution_count": 7,
   "metadata": {},
   "outputs": [],
   "source": [
    "post = Post.from_shortcode(loader.context, 'B9P6sv9JvwX')\n",
    "L= post.get_likes()\n",
    "title=post.title\n",
    "tagged_users=post.tagged_users\n",
    "C=post.get_comments()\n",
    "location=post.location"
   ]
  },
  {
   "cell_type": "code",
   "execution_count": 8,
   "metadata": {},
   "outputs": [
    {
     "name": "stdout",
     "output_type": "stream",
     "text": [
      "1700.327741504206\n"
     ]
    }
   ],
   "source": [
    "import latlon as LatLon\n",
    "from latlon import *\n",
    "loc_found=LatLon(Latitude(34.8002519939), Longitude(10.83857350143))\n",
    "ile_de_France = LatLon(Latitude(48.8499), Longitude( 2.6370))\n",
    "distance = ile_de_France.distance(loc_found)\n",
    "print(distance)"
   ]
  },
  {
   "cell_type": "markdown",
   "metadata": {},
   "source": [
    "lat long _ (ile de france)"
   ]
  },
  {
   "cell_type": "code",
   "execution_count": 10,
   "metadata": {},
   "outputs": [
    {
     "name": "stdout",
     "output_type": "stream",
     "text": [
      "None\n",
      "152\n",
      "0\n"
     ]
    },
    {
     "data": {
      "text/plain": [
       "'She already caught me, but everyday, she pulls me in deeper and deeper💕'"
      ]
     },
     "execution_count": 10,
     "metadata": {},
     "output_type": "execute_result"
    }
   ],
   "source": [
    "date=post.date_local\n",
    "url=post.url\n",
    "print(post.video_view_count)\n",
    "post.is_sponsored\n",
    "post.sponsor_users\n",
    "print(post.likes)\n",
    "print(post.comments)\n",
    "post.caption"
   ]
  },
  {
   "cell_type": "code",
   "execution_count": 11,
   "metadata": {},
   "outputs": [
    {
     "data": {
      "text/plain": [
       "'en'"
      ]
     },
     "execution_count": 11,
     "metadata": {},
     "output_type": "execute_result"
    }
   ],
   "source": [
    "#detection de la langue\n",
    "from langdetect import detect\n",
    "detect(post.caption)"
   ]
  },
  {
   "cell_type": "code",
   "execution_count": 12,
   "metadata": {},
   "outputs": [
    {
     "name": "stdout",
     "output_type": "stream",
     "text": [
      "0.37945927053948125\n"
     ]
    }
   ],
   "source": [
    "engagement=(post.likes/_followers)*100\n",
    "print(engagement)"
   ]
  },
  {
   "cell_type": "code",
   "execution_count": 13,
   "metadata": {},
   "outputs": [
    {
     "name": "stdout",
     "output_type": "stream",
     "text": [
      "1\n",
      "ndittt._\n",
      "：stories\\2022-07-20_17-50-07_UTC.webp ：stories\\2022-07-20_17-50-07_UTC.mp4 json \n",
      "8\n",
      "instagram\n",
      "：stories\\2022-07-20_18-01-36_UTC.webp ：stories\\2022-07-20_18-01-36_UTC.mp4 json \n",
      "8\n",
      "instagram\n",
      "：stories\\2022-07-20_18-01-35_UTC.webp ：stories\\2022-07-20_18-01-35_UTC.mp4 json \n",
      "8\n",
      "instagram\n",
      "：stories\\2022-07-20_18-01-34_UTC.webp ：stories\\2022-07-20_18-01-34_UTC.mp4 json \n",
      "8\n",
      "instagram\n",
      "：stories\\2022-07-20_18-01-33_UTC.webp ：stories\\2022-07-20_18-01-33_UTC.mp4 json \n",
      "8\n",
      "instagram\n",
      "：stories\\2022-07-20_18-01-32_UTC.webp ：stories\\2022-07-20_18-01-32_UTC.mp4 json \n",
      "8\n",
      "instagram\n",
      "：stories\\2022-07-20_18-01-31_UTC.webp ：stories\\2022-07-20_18-01-31_UTC.mp4 json \n",
      "8\n",
      "instagram\n",
      "：stories\\2022-07-20_18-01-30_UTC.webp ：stories\\2022-07-20_18-01-30_UTC.mp4 json \n",
      "8\n",
      "instagram\n",
      "：stories\\2022-07-20_18-01-29_UTC.webp ：stories\\2022-07-20_18-01-29_UTC.mp4 json \n",
      "1\n",
      "beyonce\n",
      "：stories\\2022-07-20_20-10-34_UTC.webp ：stories\\2022-07-20_20-10-34_UTC.mp4 json \n",
      "4\n",
      "kourtneykardash\n",
      "：stories\\2022-07-21_01-06-45_UTC.jpg json \n",
      "4\n",
      "kourtneykardash\n",
      "：stories\\2022-07-21_00-50-03_UTC.jpg json \n",
      "4\n",
      "kourtneykardash\n",
      "：stories\\2022-07-20_17-29-14_UTC.jpg json \n",
      "4\n",
      "kourtneykardash\n",
      "：stories\\2022-07-20_17-18-20_UTC.jpg json \n",
      "5\n",
      "khloekardashian\n",
      "：stories\\2022-07-21_14-28-18_UTC.webp ：stories\\2022-07-21_14-28-18_UTC.mp4 json \n",
      "5\n",
      "khloekardashian\n",
      "：stories\\2022-07-21_05-37-15_UTC.webp ：stories\\2022-07-21_05-37-15_UTC.mp4 json \n",
      "5\n",
      "khloekardashian\n",
      "：stories\\2022-07-21_04-24-42_UTC.jpg json \n",
      "5\n",
      "khloekardashian\n",
      "：stories\\2022-07-20_18-51-13_UTC.jpg json \n",
      "5\n",
      "khloekardashian\n",
      "：stories\\2022-07-20_18-49-47_UTC.jpg json \n",
      "3\n",
      "kendalljenner\n",
      "：stories\\2022-07-20_20-17-25_UTC.jpg json \n",
      "3\n",
      "kendalljenner\n",
      "：stories\\2022-07-20_16-48-46_UTC.jpg json \n",
      "3\n",
      "kendalljenner\n",
      "：stories\\2022-07-20_16-44-53_UTC.jpg json \n",
      "1\n",
      "therock\n",
      "：stories\\2022-07-20_20-20-01_UTC.webp ：stories\\2022-07-20_20-20-01_UTC.mp4 json \n",
      "[<generator object Story.get_items at 0x000001CC0535CC10>, <generator object Story.get_items at 0x000001CC0535C040>, <generator object Story.get_items at 0x000001CC0535C970>, <generator object Story.get_items at 0x000001CC0535CD60>, <generator object Story.get_items at 0x000001CC73041150>, <generator object Story.get_items at 0x000001CC0535C270>, <generator object Story.get_items at 0x000001CC05CC43C0>]\n"
     ]
    }
   ],
   "source": [
    "stories=[]\n",
    "story = instaloader.Story(loader.context,'luxeat')\n",
    "for story in loader.get_stories():\n",
    "    # story is a Story object\n",
    "    s=(story.get_items())\n",
    "    stories.append(s)\n",
    "    for item in story.get_items():\n",
    "        # item is a StoryItem object\n",
    "        print(story.itemcount)\n",
    "        print(story.owner_username)\n",
    "        loader.download_storyitem(item, ':stories')\n",
    "print(stories)"
   ]
  }
 ],
 "metadata": {
  "kernelspec": {
   "display_name": "Python 3.10.4 64-bit",
   "language": "python",
   "name": "python3"
  },
  "language_info": {
   "codemirror_mode": {
    "name": "ipython",
    "version": 3
   },
   "file_extension": ".py",
   "mimetype": "text/x-python",
   "name": "python",
   "nbconvert_exporter": "python",
   "pygments_lexer": "ipython3",
   "version": "3.10.4"
  },
  "orig_nbformat": 4,
  "vscode": {
   "interpreter": {
    "hash": "afb734500600fd355917ca529030176ea0ca205570884b88f2f6f7d791fd3fbe"
   }
  }
 },
 "nbformat": 4,
 "nbformat_minor": 2
}
