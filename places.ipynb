{
 "cells": [
  {
   "cell_type": "code",
   "execution_count": 19,
   "metadata": {},
   "outputs": [],
   "source": [
    "import instaloader\n",
    "import pandas as pd\n",
    "from itertools import islice\n",
    "from math import ceil\n",
    "from datetime import datetime\n",
    "from itertools import dropwhile, takewhile\n",
    "from instaloader import Instaloader, Profile"
   ]
  },
  {
   "cell_type": "code",
   "execution_count": null,
   "metadata": {},
   "outputs": [],
   "source": [
    "#restaurants"
   ]
  },
  {
   "cell_type": "code",
   "execution_count": 20,
   "metadata": {},
   "outputs": [],
   "source": [
    "loader = instaloader.Instaloader(sleep=None,quiet=None,user_agent=None)\n",
    "#loader.login('orthlane_w',passwd=\"i miss you\") "
   ]
  },
  {
   "cell_type": "code",
   "execution_count": 21,
   "metadata": {},
   "outputs": [],
   "source": [
    "#s=instaloader.TopSearchResults(loader.context,'leprecatelan').get_profiles()\n",
    "s=['aoizakaya','bengine.eliscar','bestrestaurantsguide','mehdisgard','alexandrebader','chcarrard','benoit_charvet','foodandsens','paul_bocuse_le_restaurant','lesgrandestablesdumonde','olivier.couvin','modnickaya','luxeat','lecoeurdeschefs','guysavoy','topparisresto','patrivia.officiel','chateaufontainebleau','palaisroyalrestaurant','gillespudlo','gwendalpoullennec','latabledecoletteparis','_ecotable_','lascenetheleme','latruffiereparis','alain_pegouret','lebarondeviande','la_grande_cascade_','restaurant_l_aigle_dor','pierrehenrimorel_les_magnolias','apiciusparis','lorqidee','michelinguide','jeromeprun','alphabruti','moiscarfe','onelife759','sistadaniela_modele','laetitia.dmnt','jeanfrancois_rouquette','laxel_restaurant','restaurantoxte','gordon_ramsay_au_trianon','plenitude.paris','restaurant_dessance','restaurantkorus','nicolas_meilland','restaurant.alangeaam','lameredelamule','claireaumatcha','thierrymarx','restaurant_numero3','bustronomeparis','leclarenceparis','pierregagnaire','restaurantpierregagnaire','piero_paris','les.meilleures.tables','latabledelamiral','recette.chirurgicale','zeibeauty','stephane_pitrechef','maison_boutary','thomas.delande','restaurant_virtus','thierrymarx','thierrymarxbakery','troisfevrier','le39v_paris','fredericvardon','louisepetitrenaud','mosuke.restaurant','mory_sacko_','lecinqparis','christianlesquer','loursjackyribault']"
   ]
  },
  {
   "cell_type": "code",
   "execution_count": null,
   "metadata": {},
   "outputs": [],
   "source": []
  },
  {
   "cell_type": "code",
   "execution_count": 22,
   "metadata": {},
   "outputs": [
    {
     "name": "stdout",
     "output_type": "stream",
     "text": [
      "['aoizakaya', 'bengine.eliscar', 'bestrestaurantsguide', 'mehdisgard', 'alexandrebader', 'chcarrard', 'benoit_charvet', 'foodandsens', 'paul_bocuse_le_restaurant', 'lesgrandestablesdumonde', 'olivier.couvin', 'modnickaya', 'luxeat', 'lecoeurdeschefs', 'guysavoy', 'topparisresto', 'patrivia.officiel', 'chateaufontainebleau', 'palaisroyalrestaurant', 'gillespudlo', 'gwendalpoullennec', 'latabledecoletteparis', '_ecotable_', 'lascenetheleme', 'latruffiereparis', 'alain_pegouret', 'lebarondeviande', 'la_grande_cascade_', 'restaurant_l_aigle_dor', 'pierrehenrimorel_les_magnolias', 'apiciusparis', 'lorqidee', 'michelinguide', 'jeromeprun', 'alphabruti', 'moiscarfe', 'onelife759', 'sistadaniela_modele', 'laetitia.dmnt', 'jeanfrancois_rouquette', 'laxel_restaurant', 'restaurantoxte', 'gordon_ramsay_au_trianon', 'plenitude.paris', 'restaurant_dessance', 'restaurantkorus', 'nicolas_meilland', 'restaurant.alangeaam', 'lameredelamule', 'claireaumatcha', 'thierrymarx', 'restaurant_numero3', 'bustronomeparis', 'leclarenceparis', 'pierregagnaire', 'restaurantpierregagnaire', 'piero_paris', 'les.meilleures.tables', 'latabledelamiral', 'recette.chirurgicale', 'zeibeauty', 'stephane_pitrechef', 'maison_boutary', 'thomas.delande', 'restaurant_virtus', 'thierrymarx', 'thierrymarxbakery', 'troisfevrier', 'le39v_paris', 'fredericvardon', 'louisepetitrenaud', 'mosuke.restaurant', 'mory_sacko_', 'lecinqparis', 'christianlesquer', 'loursjackyribault']\n"
     ]
    }
   ],
   "source": [
    "print(s)\n",
    "len(s)\n",
    "liste_1=[]"
   ]
  },
  {
   "cell_type": "code",
   "execution_count": 26,
   "metadata": {},
   "outputs": [
    {
     "ename": "QueryReturnedBadRequestException",
     "evalue": "400 Bad Request",
     "output_type": "error",
     "traceback": [
      "\u001b[1;31m---------------------------------------------------------------------------\u001b[0m",
      "\u001b[1;31mQueryReturnedBadRequestException\u001b[0m          Traceback (most recent call last)",
      "\u001b[1;32m~\\AppData\\Local\\Temp/ipykernel_11300/448910741.py\u001b[0m in \u001b[0;36m<module>\u001b[1;34m\u001b[0m\n\u001b[0;32m      2\u001b[0m \u001b[0mloader\u001b[0m\u001b[1;33m.\u001b[0m\u001b[0mlogin\u001b[0m\u001b[1;33m(\u001b[0m\u001b[1;34m'orthlane_w'\u001b[0m\u001b[1;33m,\u001b[0m\u001b[0mpasswd\u001b[0m\u001b[1;33m=\u001b[0m\u001b[1;34m\"wiwiyet\"\u001b[0m\u001b[1;33m)\u001b[0m\u001b[1;33m\u001b[0m\u001b[1;33m\u001b[0m\u001b[0m\n\u001b[0;32m      3\u001b[0m \u001b[1;31m# _count=[]\u001b[0m\u001b[1;33m\u001b[0m\u001b[1;33m\u001b[0m\u001b[0m\n\u001b[1;32m----> 4\u001b[1;33m \u001b[1;32mfor\u001b[0m \u001b[0mfollower\u001b[0m \u001b[1;32min\u001b[0m \u001b[0mprofile\u001b[0m\u001b[1;33m.\u001b[0m\u001b[0mget_followers\u001b[0m\u001b[1;33m(\u001b[0m\u001b[1;33m)\u001b[0m\u001b[1;33m:\u001b[0m\u001b[1;33m\u001b[0m\u001b[1;33m\u001b[0m\u001b[0m\n\u001b[0m\u001b[0;32m      5\u001b[0m     \u001b[0m_followers_list\u001b[0m\u001b[1;33m=\u001b[0m\u001b[1;33m[\u001b[0m\u001b[1;33m]\u001b[0m\u001b[1;33m\u001b[0m\u001b[1;33m\u001b[0m\u001b[0m\n\u001b[0;32m      6\u001b[0m     \u001b[0m_followers_list\u001b[0m\u001b[1;33m.\u001b[0m\u001b[0mappend\u001b[0m\u001b[1;33m(\u001b[0m\u001b[0mfollower\u001b[0m\u001b[1;33m.\u001b[0m\u001b[0musername\u001b[0m\u001b[1;33m)\u001b[0m\u001b[1;33m\u001b[0m\u001b[1;33m\u001b[0m\u001b[0m\n",
      "\u001b[1;32mc:\\ProgramData\\Anaconda3\\lib\\site-packages\\instaloader\\nodeiterator.py\u001b[0m in \u001b[0;36m__next__\u001b[1;34m(self)\u001b[0m\n\u001b[0;32m    133\u001b[0m             \u001b[1;32mreturn\u001b[0m \u001b[0mitem\u001b[0m\u001b[1;33m\u001b[0m\u001b[1;33m\u001b[0m\u001b[0m\n\u001b[0;32m    134\u001b[0m         \u001b[1;32mif\u001b[0m \u001b[0mself\u001b[0m\u001b[1;33m.\u001b[0m\u001b[0m_data\u001b[0m\u001b[1;33m[\u001b[0m\u001b[1;34m'page_info'\u001b[0m\u001b[1;33m]\u001b[0m\u001b[1;33m[\u001b[0m\u001b[1;34m'has_next_page'\u001b[0m\u001b[1;33m]\u001b[0m\u001b[1;33m:\u001b[0m\u001b[1;33m\u001b[0m\u001b[1;33m\u001b[0m\u001b[0m\n\u001b[1;32m--> 135\u001b[1;33m             \u001b[0mquery_response\u001b[0m \u001b[1;33m=\u001b[0m \u001b[0mself\u001b[0m\u001b[1;33m.\u001b[0m\u001b[0m_query\u001b[0m\u001b[1;33m(\u001b[0m\u001b[0mself\u001b[0m\u001b[1;33m.\u001b[0m\u001b[0m_data\u001b[0m\u001b[1;33m[\u001b[0m\u001b[1;34m'page_info'\u001b[0m\u001b[1;33m]\u001b[0m\u001b[1;33m[\u001b[0m\u001b[1;34m'end_cursor'\u001b[0m\u001b[1;33m]\u001b[0m\u001b[1;33m)\u001b[0m\u001b[1;33m\u001b[0m\u001b[1;33m\u001b[0m\u001b[0m\n\u001b[0m\u001b[0;32m    136\u001b[0m             \u001b[1;32mif\u001b[0m \u001b[0mself\u001b[0m\u001b[1;33m.\u001b[0m\u001b[0m_data\u001b[0m\u001b[1;33m[\u001b[0m\u001b[1;34m'edges'\u001b[0m\u001b[1;33m]\u001b[0m \u001b[1;33m!=\u001b[0m \u001b[0mquery_response\u001b[0m\u001b[1;33m[\u001b[0m\u001b[1;34m'edges'\u001b[0m\u001b[1;33m]\u001b[0m \u001b[1;32mand\u001b[0m \u001b[0mlen\u001b[0m\u001b[1;33m(\u001b[0m\u001b[0mquery_response\u001b[0m\u001b[1;33m[\u001b[0m\u001b[1;34m'edges'\u001b[0m\u001b[1;33m]\u001b[0m\u001b[1;33m)\u001b[0m \u001b[1;33m>\u001b[0m \u001b[1;36m0\u001b[0m\u001b[1;33m:\u001b[0m\u001b[1;33m\u001b[0m\u001b[1;33m\u001b[0m\u001b[0m\n\u001b[0;32m    137\u001b[0m                 \u001b[0mpage_index\u001b[0m\u001b[1;33m,\u001b[0m \u001b[0mdata\u001b[0m \u001b[1;33m=\u001b[0m \u001b[0mself\u001b[0m\u001b[1;33m.\u001b[0m\u001b[0m_page_index\u001b[0m\u001b[1;33m,\u001b[0m \u001b[0mself\u001b[0m\u001b[1;33m.\u001b[0m\u001b[0m_data\u001b[0m\u001b[1;33m\u001b[0m\u001b[1;33m\u001b[0m\u001b[0m\n",
      "\u001b[1;32mc:\\ProgramData\\Anaconda3\\lib\\site-packages\\instaloader\\nodeiterator.py\u001b[0m in \u001b[0;36m_query\u001b[1;34m(self, after)\u001b[0m\n\u001b[0;32m     99\u001b[0m         \u001b[1;32mtry\u001b[0m\u001b[1;33m:\u001b[0m\u001b[1;33m\u001b[0m\u001b[1;33m\u001b[0m\u001b[0m\n\u001b[0;32m    100\u001b[0m             data = self._edge_extractor(\n\u001b[1;32m--> 101\u001b[1;33m                 self._context.graphql_query(\n\u001b[0m\u001b[0;32m    102\u001b[0m                     \u001b[0mself\u001b[0m\u001b[1;33m.\u001b[0m\u001b[0m_query_hash\u001b[0m\u001b[1;33m,\u001b[0m \u001b[1;33m{\u001b[0m\u001b[1;33m**\u001b[0m\u001b[0mself\u001b[0m\u001b[1;33m.\u001b[0m\u001b[0m_query_variables\u001b[0m\u001b[1;33m,\u001b[0m \u001b[1;33m**\u001b[0m\u001b[0mpagination_variables\u001b[0m\u001b[1;33m}\u001b[0m\u001b[1;33m,\u001b[0m \u001b[0mself\u001b[0m\u001b[1;33m.\u001b[0m\u001b[0m_query_referer\u001b[0m\u001b[1;33m\u001b[0m\u001b[1;33m\u001b[0m\u001b[0m\n\u001b[0;32m    103\u001b[0m                 )\n",
      "\u001b[1;32mc:\\ProgramData\\Anaconda3\\lib\\site-packages\\instaloader\\instaloadercontext.py\u001b[0m in \u001b[0;36mgraphql_query\u001b[1;34m(self, query_hash, variables, referer, rhx_gis)\u001b[0m\n\u001b[0;32m    426\u001b[0m                 \u001b[0mtmpsession\u001b[0m\u001b[1;33m.\u001b[0m\u001b[0mheaders\u001b[0m\u001b[1;33m[\u001b[0m\u001b[1;34m'x-instagram-gis'\u001b[0m\u001b[1;33m]\u001b[0m \u001b[1;33m=\u001b[0m \u001b[0mx_instagram_gis\u001b[0m\u001b[1;33m\u001b[0m\u001b[1;33m\u001b[0m\u001b[0m\n\u001b[0;32m    427\u001b[0m \u001b[1;33m\u001b[0m\u001b[0m\n\u001b[1;32m--> 428\u001b[1;33m             resp_json = self.get_json('graphql/query',\n\u001b[0m\u001b[0;32m    429\u001b[0m                                       params={'query_hash': query_hash,\n\u001b[0;32m    430\u001b[0m                                               'variables': variables_json},\n",
      "\u001b[1;32mc:\\ProgramData\\Anaconda3\\lib\\site-packages\\instaloader\\instaloadercontext.py\u001b[0m in \u001b[0;36mget_json\u001b[1;34m(self, path, params, host, session, _attempt)\u001b[0m\n\u001b[0;32m    343\u001b[0m                     \u001b[1;32mbreak\u001b[0m\u001b[1;33m\u001b[0m\u001b[1;33m\u001b[0m\u001b[0m\n\u001b[0;32m    344\u001b[0m             \u001b[1;32mif\u001b[0m \u001b[0mresp\u001b[0m\u001b[1;33m.\u001b[0m\u001b[0mstatus_code\u001b[0m \u001b[1;33m==\u001b[0m \u001b[1;36m400\u001b[0m\u001b[1;33m:\u001b[0m\u001b[1;33m\u001b[0m\u001b[1;33m\u001b[0m\u001b[0m\n\u001b[1;32m--> 345\u001b[1;33m                 \u001b[1;32mraise\u001b[0m \u001b[0mQueryReturnedBadRequestException\u001b[0m\u001b[1;33m(\u001b[0m\u001b[1;34m\"400 Bad Request\"\u001b[0m\u001b[1;33m)\u001b[0m\u001b[1;33m\u001b[0m\u001b[1;33m\u001b[0m\u001b[0m\n\u001b[0m\u001b[0;32m    346\u001b[0m             \u001b[1;32mif\u001b[0m \u001b[0mresp\u001b[0m\u001b[1;33m.\u001b[0m\u001b[0mstatus_code\u001b[0m \u001b[1;33m==\u001b[0m \u001b[1;36m404\u001b[0m\u001b[1;33m:\u001b[0m\u001b[1;33m\u001b[0m\u001b[1;33m\u001b[0m\u001b[0m\n\u001b[0;32m    347\u001b[0m                 \u001b[1;32mraise\u001b[0m \u001b[0mQueryReturnedNotFoundException\u001b[0m\u001b[1;33m(\u001b[0m\u001b[1;34m\"404 Not Found\"\u001b[0m\u001b[1;33m)\u001b[0m\u001b[1;33m\u001b[0m\u001b[1;33m\u001b[0m\u001b[0m\n",
      "\u001b[1;31mQueryReturnedBadRequestException\u001b[0m: 400 Bad Request"
     ]
    }
   ],
   "source": [
    "profile = instaloader.Profile.from_username(loader.context,s[0])\n",
    "loader.login('orthlane_w',passwd=\"wiwiyet\") \n",
    "# _count=[]\n",
    "for follower in profile.get_followers():\n",
    "    _followers_list=[]\n",
    "    _followers_list.append(follower.username)\n",
    "       # _count.append(follower.followers)\n",
    "Liste=[]\n",
    "Liste.append(_followers_list)\n",
    "#Liste.append(_count)"
   ]
  },
  {
   "cell_type": "code",
   "execution_count": null,
   "metadata": {},
   "outputs": [],
   "source": [
    "print(_followers_list)"
   ]
  },
  {
   "cell_type": "code",
   "execution_count": 8,
   "metadata": {},
   "outputs": [
    {
     "ename": "NameError",
     "evalue": "name 'Liste' is not defined",
     "output_type": "error",
     "traceback": [
      "\u001b[1;31m---------------------------------------------------------------------------\u001b[0m",
      "\u001b[1;31mNameError\u001b[0m                                 Traceback (most recent call last)",
      "\u001b[1;32m~\\AppData\\Local\\Temp/ipykernel_17484/2612846482.py\u001b[0m in \u001b[0;36m<module>\u001b[1;34m\u001b[0m\n\u001b[0;32m      1\u001b[0m \u001b[0mcolumns\u001b[0m\u001b[1;33m=\u001b[0m\u001b[1;33m[\u001b[0m\u001b[1;34m'Username'\u001b[0m\u001b[1;33m,\u001b[0m\u001b[1;34m'Number of posts'\u001b[0m\u001b[1;33m,\u001b[0m\u001b[1;34m'Followers'\u001b[0m\u001b[1;33m,\u001b[0m\u001b[1;34m'Followees'\u001b[0m\u001b[1;33m,\u001b[0m\u001b[1;34m'Followers list'\u001b[0m\u001b[1;33m]\u001b[0m\u001b[1;33m\u001b[0m\u001b[1;33m\u001b[0m\u001b[0m\n\u001b[1;32m----> 2\u001b[1;33m \u001b[0mliste_1\u001b[0m\u001b[1;33m.\u001b[0m\u001b[0mappend\u001b[0m\u001b[1;33m(\u001b[0m\u001b[0mListe\u001b[0m\u001b[1;33m)\u001b[0m\u001b[1;33m\u001b[0m\u001b[1;33m\u001b[0m\u001b[0m\n\u001b[0m\u001b[0;32m      3\u001b[0m \u001b[0mdf\u001b[0m\u001b[1;33m=\u001b[0m\u001b[0mpd\u001b[0m\u001b[1;33m.\u001b[0m\u001b[0mDataFrame\u001b[0m\u001b[1;33m(\u001b[0m\u001b[0mliste_1\u001b[0m\u001b[1;33m,\u001b[0m\u001b[0mcolumns\u001b[0m \u001b[1;33m=\u001b[0m \u001b[1;33m[\u001b[0m\u001b[1;34m'Username'\u001b[0m\u001b[1;33m,\u001b[0m\u001b[1;34m'Number of posts'\u001b[0m\u001b[1;33m,\u001b[0m\u001b[1;34m'Followers'\u001b[0m\u001b[1;33m,\u001b[0m\u001b[1;34m'Followees'\u001b[0m\u001b[1;33m,\u001b[0m\u001b[1;34m'Followers list'\u001b[0m\u001b[1;33m]\u001b[0m\u001b[1;33m)\u001b[0m\u001b[1;33m\u001b[0m\u001b[1;33m\u001b[0m\u001b[0m\n\u001b[0;32m      4\u001b[0m \u001b[0mprint\u001b[0m\u001b[1;33m(\u001b[0m\u001b[0mdf\u001b[0m\u001b[1;33m)\u001b[0m\u001b[1;33m\u001b[0m\u001b[1;33m\u001b[0m\u001b[0m\n",
      "\u001b[1;31mNameError\u001b[0m: name 'Liste' is not defined"
     ]
    }
   ],
   "source": [
    "columns=['Username','Number of posts','Followers','Followees','Followers list']\n",
    "liste_1.append(Liste)\n",
    "df=pd.DataFrame(liste_1,columns = ['Username','Number of posts','Followers','Followees','Followers list'])\n",
    "print(df)"
   ]
  },
  {
   "cell_type": "code",
   "execution_count": 9,
   "metadata": {},
   "outputs": [
    {
     "ename": "NameError",
     "evalue": "name 'df' is not defined",
     "output_type": "error",
     "traceback": [
      "\u001b[1;31m---------------------------------------------------------------------------\u001b[0m",
      "\u001b[1;31mNameError\u001b[0m                                 Traceback (most recent call last)",
      "\u001b[1;32m~\\AppData\\Local\\Temp/ipykernel_17484/2445392453.py\u001b[0m in \u001b[0;36m<module>\u001b[1;34m\u001b[0m\n\u001b[1;32m----> 1\u001b[1;33m \u001b[0mdf\u001b[0m\u001b[1;33m.\u001b[0m\u001b[0mto_csv\u001b[0m\u001b[1;33m(\u001b[0m\u001b[1;34mr'C:\\Users\\User\\Desktop\\orthlane\\places.csv'\u001b[0m\u001b[1;33m,\u001b[0m \u001b[0mindex\u001b[0m\u001b[1;33m=\u001b[0m\u001b[1;32mFalse\u001b[0m\u001b[1;33m)\u001b[0m\u001b[1;33m\u001b[0m\u001b[1;33m\u001b[0m\u001b[0m\n\u001b[0m",
      "\u001b[1;31mNameError\u001b[0m: name 'df' is not defined"
     ]
    }
   ],
   "source": [
    "df.to_csv(r'C:\\Users\\User\\Desktop\\orthlane\\places.csv', index=False)"
   ]
  }
 ],
 "metadata": {
  "kernelspec": {
   "display_name": "Python 3.9.7 ('base')",
   "language": "python",
   "name": "python3"
  },
  "language_info": {
   "codemirror_mode": {
    "name": "ipython",
    "version": 3
   },
   "file_extension": ".py",
   "mimetype": "text/x-python",
   "name": "python",
   "nbconvert_exporter": "python",
   "pygments_lexer": "ipython3",
   "version": "3.9.7"
  },
  "orig_nbformat": 4,
  "vscode": {
   "interpreter": {
    "hash": "ad2bdc8ecc057115af97d19610ffacc2b4e99fae6737bb82f5d7fb13d2f2c186"
   }
  }
 },
 "nbformat": 4,
 "nbformat_minor": 2
}
