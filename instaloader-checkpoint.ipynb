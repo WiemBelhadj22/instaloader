{
 "cells": [
  {
   "cell_type": "code",
   "execution_count": 25,
   "id": "e5b2fa5c",
   "metadata": {},
   "outputs": [
    {
     "name": "stdout",
     "output_type": "stream",
     "text": [
      "Requirement already satisfied: instaloader in c:\\programdata\\anaconda3\\lib\\site-packages (4.9.1)\n",
      "Requirement already satisfied: requests>=2.4 in c:\\programdata\\anaconda3\\lib\\site-packages (from instaloader) (2.26.0)\n",
      "Requirement already satisfied: certifi>=2017.4.17 in c:\\programdata\\anaconda3\\lib\\site-packages (from requests>=2.4->instaloader) (2021.10.8)\n",
      "Requirement already satisfied: idna<4,>=2.5 in c:\\programdata\\anaconda3\\lib\\site-packages (from requests>=2.4->instaloader) (3.2)\n",
      "Requirement already satisfied: urllib3<1.27,>=1.21.1 in c:\\programdata\\anaconda3\\lib\\site-packages (from requests>=2.4->instaloader) (1.26.7)\n",
      "Requirement already satisfied: charset-normalizer~=2.0.0 in c:\\programdata\\anaconda3\\lib\\site-packages (from requests>=2.4->instaloader) (2.0.4)\n"
     ]
    }
   ],
   "source": [
    "!pip install instaloader"
   ]
  },
  {
   "cell_type": "code",
   "execution_count": 26,
   "id": "0a85bddb",
   "metadata": {},
   "outputs": [
    {
     "name": "stdout",
     "output_type": "stream",
     "text": [
      "Requirement already satisfied: instagram-explore in c:\\programdata\\anaconda3\\lib\\site-packages (0.3.0)\n",
      "Requirement already satisfied: requests in c:\\programdata\\anaconda3\\lib\\site-packages (from instagram-explore) (2.26.0)\n",
      "Requirement already satisfied: charset-normalizer~=2.0.0 in c:\\programdata\\anaconda3\\lib\\site-packages (from requests->instagram-explore) (2.0.4)\n",
      "Requirement already satisfied: urllib3<1.27,>=1.21.1 in c:\\programdata\\anaconda3\\lib\\site-packages (from requests->instagram-explore) (1.26.7)\n",
      "Requirement already satisfied: idna<4,>=2.5 in c:\\programdata\\anaconda3\\lib\\site-packages (from requests->instagram-explore) (3.2)\n",
      "Requirement already satisfied: certifi>=2017.4.17 in c:\\programdata\\anaconda3\\lib\\site-packages (from requests->instagram-explore) (2021.10.8)\n"
     ]
    }
   ],
   "source": [
    "!pip install instagram-explore"
   ]
  },
  {
   "cell_type": "code",
   "execution_count": 27,
   "id": "20a1d446",
   "metadata": {},
   "outputs": [],
   "source": [
    "import instaloader"
   ]
  },
  {
   "cell_type": "code",
   "execution_count": 28,
   "id": "e4e0f1ac",
   "metadata": {},
   "outputs": [],
   "source": [
    "bot = instaloader.Instaloader()"
   ]
  },
  {
   "cell_type": "code",
   "execution_count": 29,
   "id": "9fa5f47e",
   "metadata": {},
   "outputs": [],
   "source": [
    "profile = instaloader.Profile.from_username(bot.context,'incisivadc.official')"
   ]
  },
  {
   "cell_type": "code",
   "execution_count": 30,
   "id": "6ce66f19",
   "metadata": {},
   "outputs": [
    {
     "name": "stdout",
     "output_type": "stream",
     "text": [
      "Username incisivadc.official\n",
      "User ID 40632937831\n",
      "picture :  https://instagram.ftun14-1.fna.fbcdn.net/v/t51.2885-19/242567383_315572383662592_618502292485732393_n.jpg?stp=dst-jpg_s320x320&_nc_ht=instagram.ftun14-1.fna.fbcdn.net&_nc_cat=104&_nc_ohc=7-epTJjz17EAX_QN5X_&edm=AOQ1c0wBAAAA&ccb=7-5&oh=00_AT8HjMZMwMyuCR6A7D0fuPvJFUanhFrNG_8PvwrGK8ytCw&oe=62BA7760&_nc_sid=8fd12b\n",
      "Number of posts :  205\n",
      "Followers :  1708\n",
      "followees :  577\n",
      "bio :  Incisiva Dental is 4.0 Care with various service. So stay tune and keep follow us for interesting promo and update. \n",
      "Reservation klik link bellow ⤵ https://linktr.ee/incisivadc\n",
      "igtv :  5\n",
      "isPrivate :  False\n",
      "isBusiness :  False\n",
      "BusinessType :  None\n"
     ]
    }
   ],
   "source": [
    "print(\"Username\",profile.username)\n",
    "print(\"User ID\",profile.userid)\n",
    "# returns link to the profile picture\n",
    "print(\"picture : \",profile.profile_pic_url)\n",
    "print(\"Number of posts : \",profile.mediacount)\n",
    "print(\"Followers : \",profile.followers)\n",
    "print(\"followees : \",profile.followees)\n",
    "print(\"bio : \",profile.biography,profile.external_url)\n",
    "print(\"igtv : \",profile.igtvcount)\n",
    "print(\"isPrivate : \",profile.is_private)\n",
    "# returns a bool object\n",
    "print(\"isBusiness : \",profile.is_business_account)\n",
    "#It returns the type of business account is associated with\n",
    "print(\"BusinessType : \",profile.business_category_name)"
   ]
  },
  {
   "cell_type": "code",
   "execution_count": 32,
   "id": "75be1d41",
   "metadata": {},
   "outputs": [],
   "source": [
    "'''\n",
    "Liste_username=[]\n",
    "Liste_userid=[]\n",
    "Liste_profile_pic=[]\n",
    "Liste_mediacount=[]\n",
    "Liste_followers=[]\n",
    "Liste_followees=[]\n",
    "Liste_biography=[]\n",
    "Liste_external_url=[]\n",
    "Liste_igtv=[]\n",
    "Liste_private=[]\n",
    "Liste_business_account=[]\n",
    "Liste_business_category_name=[]\n",
    "'''"
   ]
  },
  {
   "cell_type": "code",
   "execution_count": 39,
   "id": "a674843b",
   "metadata": {},
   "outputs": [
    {
     "data": {
      "text/plain": [
       "'\\nListe_username.append(profile.username)\\nListe_userid.append(profile.userid)\\nListe_profile_pic.append(profile.profile_pic_url)\\nListe_mediacount.append(profile.mediacount)\\nListe_followers.append(profile.followers)\\nListe_followees.append(profile.followees)\\nListe_biography.append(profile.biography)\\nListe_external_url.append(profile.external_url)\\nListe_igtv.append(profile.igtvcount)\\nListe_private.append(profile.is_private)\\nListe_business_account.append(profile.is_business_account)\\nListe_business_category_name.append(profile.business_category_name)\\n'"
      ]
     },
     "execution_count": 39,
     "metadata": {},
     "output_type": "execute_result"
    }
   ],
   "source": [
    "'''\n",
    "Liste_username.append(profile.username)\n",
    "Liste_userid.append(profile.userid)\n",
    "Liste_profile_pic.append(profile.profile_pic_url)\n",
    "Liste_mediacount.append(profile.mediacount)\n",
    "Liste_followers.append(profile.followers)\n",
    "Liste_followees.append(profile.followees)\n",
    "Liste_biography.append(profile.biography)\n",
    "Liste_external_url.append(profile.external_url)\n",
    "Liste_igtv.append(profile.igtvcount)\n",
    "Liste_private.append(profile.is_private)\n",
    "Liste_business_account.append(profile.is_business_account)\n",
    "Liste_business_category_name.append(profile.business_category_name)\n",
    "'''"
   ]
  },
  {
   "cell_type": "code",
   "execution_count": 47,
   "id": "0b7d4b6c",
   "metadata": {},
   "outputs": [],
   "source": [
    "_username=profile.username\n",
    "_userid=(profile.userid)\n",
    "_profile_pic=(profile.profile_pic_url)\n",
    "_mediacount=(profile.mediacount)\n",
    "_followers=(profile.followers)\n",
    "_followees=(profile.followees)\n",
    "_biography=(profile.biography)\n",
    "_external_url=(profile.external_url)\n",
    "_igtv=(profile.igtvcount)\n",
    "_private=(profile.is_private)\n",
    "_business_account=(profile.is_business_account)\n",
    "_business_category_name=(profile.business_category_name)"
   ]
  },
  {
   "cell_type": "code",
   "execution_count": 52,
   "id": "8055beaf",
   "metadata": {},
   "outputs": [],
   "source": [
    "Liste=[]\n",
    "Liste.append(_username)\n",
    "Liste.append(_userid)\n",
    "Liste.append(_profile_pic)\n",
    "Liste.append(_mediacount)\n",
    "Liste.append(_followers)\n",
    "Liste.append(_followees)\n",
    "Liste.append(_biography)\n",
    "Liste.append(_external_url)\n",
    "Liste.append(_private)\n",
    "Liste.append(_business_account)\n",
    "Liste.append(_business_category_name)\n",
    "Liste\n",
    "\n",
    "d=[Liste]"
   ]
  },
  {
   "cell_type": "code",
   "execution_count": 57,
   "id": "eb6d32cb",
   "metadata": {},
   "outputs": [
    {
     "data": {
      "text/plain": [
       "11"
      ]
     },
     "execution_count": 57,
     "metadata": {},
     "output_type": "execute_result"
    }
   ],
   "source": [
    "len(d[0])"
   ]
  },
  {
   "cell_type": "code",
   "execution_count": 58,
   "id": "1fb7214c",
   "metadata": {},
   "outputs": [
    {
     "name": "stdout",
     "output_type": "stream",
     "text": [
      "              Username      User ID  \\\n",
      "0  incisivadc.official  40632937831   \n",
      "\n",
      "                                             Picture  Number of posts  \\\n",
      "0  https://instagram.ftun14-1.fna.fbcdn.net/v/t51...              205   \n",
      "\n",
      "   Followers  Followees                                                bio  \\\n",
      "0       1708        577  Incisiva Dental is 4.0 Care with various servi...   \n",
      "\n",
      "                    url externe  isPrivate  isBusiness BusinessType  \n",
      "0  https://linktr.ee/incisivadc      False       False         None  \n"
     ]
    }
   ],
   "source": [
    "import pandas as pd\n",
    "columns=['Username','User ID','Picture','Number of posts','Followers','Followees','bio','url externe','isPrivate','isBusiness','BusinessType']\n",
    "df=pd.DataFrame(d,columns = ['Username','User ID','Picture','Number of posts','Followers','Followees','bio','url externe','isPrivate','isBusiness','BusinessType'])\n",
    "print(df)"
   ]
  },
  {
   "cell_type": "code",
   "execution_count": 66,
   "id": "041f1f7c",
   "metadata": {},
   "outputs": [],
   "source": [
    "df.to_csv(r'C:\\Users\\User\\Desktop\\orthlane\\my_data.csv', index=False)"
   ]
  },
  {
   "cell_type": "code",
   "execution_count": 68,
   "id": "f2144563",
   "metadata": {},
   "outputs": [
    {
     "name": "stdout",
     "output_type": "stream",
     "text": [
      "              Username      User ID  \\\n",
      "0  incisivadc.official  40632937831   \n",
      "\n",
      "                                             Picture  Number of posts  \\\n",
      "0  https://instagram.ftun14-1.fna.fbcdn.net/v/t51...              205   \n",
      "\n",
      "   Followers  Followees                                                bio  \\\n",
      "0       1708        577  Incisiva Dental is 4.0 Care with various servi...   \n",
      "\n",
      "                    url externe  isPrivate  isBusiness  BusinessType  \n",
      "0  https://linktr.ee/incisivadc      False       False           NaN  \n"
     ]
    }
   ],
   "source": [
    "df = pd.read_csv(r'C:/Users/User/Desktop/orthlane/my_data.csv')\n",
    "print(df)"
   ]
  },
  {
   "cell_type": "code",
   "execution_count": null,
   "id": "af710c34",
   "metadata": {},
   "outputs": [],
   "source": [
    "loader = instaloader.Instaloader()\n",
    "loader.login('orthlaner','1234orthlane') "
   ]
  },
  {
   "cell_type": "code",
   "execution_count": null,
   "id": "fe03c2a8",
   "metadata": {},
   "outputs": [],
   "source": [
    "#To download the last 30 pictures with hashtag\n",
    "loader.download_hashtag('dentist', max_count=30)"
   ]
  },
  {
   "cell_type": "code",
   "execution_count": null,
   "id": "81dfb73d",
   "metadata": {},
   "outputs": [],
   "source": [
    "from datetime import datetime\n",
    "from itertools import dropwhile, takewhile"
   ]
  },
  {
   "cell_type": "code",
   "execution_count": null,
   "id": "08c56904",
   "metadata": {},
   "outputs": [],
   "source": [
    "\n",
    "for post in instaloader.Hashtag.from_name(loader.context, 'dentist').get_posts():\n",
    "    # post is an instance of instaloader.Post\n",
    "    loader.download_post(post, target='#dentist')\n",
    "   "
   ]
  },
  {
   "cell_type": "code",
   "execution_count": null,
   "id": "a8fd9b49",
   "metadata": {},
   "outputs": [],
   "source": [
    "posts = instaloader.Hashtag.from_name(L.context, \"dentist\").get_posts()\n",
    "\n",
    "SINCE = datetime(2020, 5, 10)  # further from today, inclusive\n",
    "UNTIL = datetime(2020, 5, 11)  # closer to today, not inclusive\n",
    "\n",
    "k = 0  # initiate k\n",
    "#k_list = []  # uncomment this to tune k\n",
    "\n",
    "for post in posts:\n",
    "    postdate = post.date\n",
    "\n",
    "    if postdate > UNTIL:\n",
    "        continue\n",
    "    elif postdate <= SINCE:\n",
    "        k += 1\n",
    "        if k == 50:\n",
    "            break\n",
    "        else:\n",
    "            continue\n",
    "    else:\n",
    "        loader.download_post(post, \"#dentist\")\n",
    "        # if you want to tune k, uncomment below to get your k max\n",
    "        #k_list.append(k)\n",
    "        k = 0  # set k to 0"
   ]
  },
  {
   "cell_type": "markdown",
   "id": "49dc6d2e",
   "metadata": {},
   "source": [
    "#Top X Posts of User"
   ]
  },
  {
   "cell_type": "code",
   "execution_count": null,
   "id": "5086bfe9",
   "metadata": {},
   "outputs": [],
   "source": [
    "from itertools import islice\n",
    "from math import ceil\n",
    "\n",
    "from instaloader import Instaloader, Profile\n",
    "\n",
    "PROFILE = 'belhadj_wiem'        # profile to download from\n",
    "X_percentage = 10    # percentage of posts that should be downloaded\n",
    "\n",
    "profile = Profile.from_username(loader.context, PROFILE)\n",
    "posts_sorted_by_likes = sorted(profile.get_posts(),\n",
    "                               key=lambda p: p.likes + p.comments,\n",
    "                               reverse=True)\n",
    "\n",
    "for post in islice(posts_sorted_by_likes, ceil(profile.mediacount * X_percentage / 100)):\n",
    "    loader.download_post(post, PROFILE)"
   ]
  },
  {
   "cell_type": "code",
   "execution_count": null,
   "id": "6adf195a",
   "metadata": {},
   "outputs": [],
   "source": [
    "loader.download_location(362629379, max_count=10)\n",
    "#"
   ]
  },
  {
   "cell_type": "code",
   "execution_count": null,
   "id": "2c3fd160",
   "metadata": {},
   "outputs": [],
   "source": []
  }
 ],
 "metadata": {
  "kernelspec": {
   "display_name": "Python 3 (ipykernel)",
   "language": "python",
   "name": "python3"
  },
  "language_info": {
   "codemirror_mode": {
    "name": "ipython",
    "version": 3
   },
   "file_extension": ".py",
   "mimetype": "text/x-python",
   "name": "python",
   "nbconvert_exporter": "python",
   "pygments_lexer": "ipython3",
   "version": "3.9.7"
  }
 },
 "nbformat": 4,
 "nbformat_minor": 5
}
