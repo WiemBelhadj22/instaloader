{
 "cells": [
  {
   "cell_type": "code",
   "execution_count": 2,
   "metadata": {},
   "outputs": [
    {
     "name": "stdout",
     "output_type": "stream",
     "text": [
      "Loading file artistique.csv...\n",
      "Loading file astucebeauté.csv...\n",
      "Loading file astucesanté.csv...\n",
      "Loading file beausourire.csv...\n",
      "Loading file Belle.csv...\n",
      "Loading file bisous.csv...\n",
      "Loading file blanchimentdentaire.csv...\n",
      "Loading file Blogueuse.csv...\n",
      "Loading file cheveux.csv...\n",
      "Loading file créativité.csv...\n",
      "Loading file dataset.csv...\n",
      "Loading file france.csv...\n",
      "Loading file French.csv...\n",
      "Loading file féminine.csv...\n",
      "Loading file féminité.csv...\n",
      "Loading file Giveaway.csv...\n",
      "Loading file gracieuse.csv...\n",
      "Loading file indépendante.csv...\n",
      "Loading file influenceur.csv...\n",
      "Loading file influenceuse.csv...\n",
      "Loading file innovation.csv...\n",
      "Loading file instagood.csv...\n",
      "Loading file instagrameuse.csv...\n",
      "Loading file jeuxconcours.csv...\n",
      "Loading file love.csv...\n",
      "Loading file maman.csv...\n",
      "Loading file manucure.csv...\n",
      "Loading file maquillage.csv...\n",
      "Loading file mariage.csv...\n",
      "Loading file mariée.csv...\n",
      "Loading file mignonne.csv...\n",
      "Loading file mode.csv...\n",
      "Loading file modéliste.csv...\n",
      "Loading file motivation.csv...\n",
      "Loading file nouveautés.csv...\n",
      "Loading file paris.csv...\n",
      "Loading file Parisienne.csv...\n",
      "Loading file produitbeauté.csv...\n",
      "Loading file professionnelle.csv...\n",
      "Loading file soin.csv...\n",
      "Loading file sourire.csv...\n",
      "Loading file Splendide.csv...\n",
      "Loading file style.csv...\n",
      "Loading file Sublime.csv...\n",
      "Loading file tendance.csv...\n",
      "Loading file vivante.csv...\n",
      "Loading file volonté.csv...\n",
      "Loading file youtubeur.csv...\n",
      "Loading file élégance.csv...\n"
     ]
    }
   ],
   "source": [
    "import os\n",
    "import pandas as pd\n",
    "\n",
    "data_file_folder = ('C:/Users/User/Desktop/orthlane/data_final')\n",
    "df = []\n",
    "for file in os.listdir(data_file_folder):\n",
    "    if file.endswith('.csv'):\n",
    "        print('Loading file {0}...'.format(file))\n",
    "        df.append(pd.read_csv(os.path.join(data_file_folder, file)))\n",
    "        \n",
    "df_master = pd.concat(df, axis=0)\n",
    "df_master.to_csv(r'C:\\Users\\User\\Desktop\\orthlane\\data_final\\dataset_1.csv', index=False)"
   ]
  },
  {
   "cell_type": "code",
   "execution_count": null,
   "metadata": {},
   "outputs": [],
   "source": [
    "import csv\n",
    "with open(r'C:\\Users\\User\\Desktop\\orthlane\\data_final\\dataset_1.csv') as f:\n",
    "    reader = csv.reader(f)\n",
    "    uniq = [list(tup) for tup in set([tuple(row) for row in reader])]\n",
    "\n",
    "with open('C:\\Users\\User\\Desktop\\orthlane\\data_final\\dataset_f.csv', 'w') as f:\n",
    "    writer=csv.writer(f)\n",
    "    for row in uniq:\n",
    "        writer.writerow(row)"
   ]
  }
 ],
 "metadata": {
  "kernelspec": {
   "display_name": "Python 3.10.4 64-bit",
   "language": "python",
   "name": "python3"
  },
  "language_info": {
   "codemirror_mode": {
    "name": "ipython",
    "version": 3
   },
   "file_extension": ".py",
   "mimetype": "text/x-python",
   "name": "python",
   "nbconvert_exporter": "python",
   "pygments_lexer": "ipython3",
   "version": "3.10.4"
  },
  "orig_nbformat": 4,
  "vscode": {
   "interpreter": {
    "hash": "afb734500600fd355917ca529030176ea0ca205570884b88f2f6f7d791fd3fbe"
   }
  }
 },
 "nbformat": 4,
 "nbformat_minor": 2
}
