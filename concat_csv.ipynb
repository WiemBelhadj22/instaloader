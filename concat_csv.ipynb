{
 "cells": [
  {
   "cell_type": "code",
   "execution_count": 1,
   "metadata": {},
   "outputs": [
    {
     "name": "stdout",
     "output_type": "stream",
     "text": [
      "Loading file astuce.csv...\n",
      "Loading file audience.csv...\n",
      "Loading file beautiful.csv...\n",
      "Loading file cuisine.csv...\n",
      "Loading file daily.csv...\n",
      "Loading file dataset_1.csv...\n",
      "Loading file engagement.csv...\n",
      "Loading file femme.csv...\n",
      "Loading file fitness.csv...\n",
      "Loading file fête.csv...\n",
      "Loading file hygiéne.csv...\n",
      "Loading file instagram.csv...\n",
      "Loading file me.csv...\n",
      "Loading file moi.csv...\n",
      "Loading file ongles.csv...\n",
      "Loading file ootd.csv...\n",
      "Loading file outfit.csv...\n",
      "Loading file papa.csv...\n",
      "Loading file peau.csv...\n",
      "Loading file Pertinence.csv...\n",
      "Loading file plage.csv...\n",
      "Loading file sexy.csv...\n",
      "Loading file smile.csv...\n",
      "Loading file soleil.csv...\n",
      "Loading file storytime.csv...\n",
      "Loading file styliste.csv...\n",
      "Loading file suivre.csv...\n",
      "Loading file summer.csv...\n",
      "Loading file tiktok.csv...\n",
      "Loading file unboxing.csv...\n",
      "Loading file vernis.csv...\n",
      "Loading file visage.csv...\n",
      "Loading file youtube.csv...\n"
     ]
    }
   ],
   "source": [
    "import os\n",
    "import pandas as pd\n",
    "\n",
    "data_file_folder = ('C:/Users/User/Desktop/orthlane/data_final')\n",
    "df = []\n",
    "for file in os.listdir(data_file_folder):\n",
    "    if file.endswith('.csv'):\n",
    "        print('Loading file {0}...'.format(file))\n",
    "        df.append(pd.read_csv(os.path.join(data_file_folder, file)))\n",
    "        \n",
    "df_master = pd.concat(df, axis=0)\n",
    "df_master.to_csv(r'C:\\Users\\User\\Desktop\\orthlane\\data_final\\final_data.csv', index=False)"
   ]
  }
 ],
 "metadata": {
  "kernelspec": {
   "display_name": "Python 3.10.4 64-bit",
   "language": "python",
   "name": "python3"
  },
  "language_info": {
   "codemirror_mode": {
    "name": "ipython",
    "version": 3
   },
   "file_extension": ".py",
   "mimetype": "text/x-python",
   "name": "python",
   "nbconvert_exporter": "python",
   "pygments_lexer": "ipython3",
   "version": "3.10.4"
  },
  "orig_nbformat": 4,
  "vscode": {
   "interpreter": {
    "hash": "afb734500600fd355917ca529030176ea0ca205570884b88f2f6f7d791fd3fbe"
   }
  }
 },
 "nbformat": 4,
 "nbformat_minor": 2
}
