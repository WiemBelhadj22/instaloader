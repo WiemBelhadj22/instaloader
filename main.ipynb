{
 "cells": [
  {
   "cell_type": "code",
   "execution_count": 1,
   "id": "e5b2fa5c",
   "metadata": {},
   "outputs": [],
   "source": [
    "#!pip install instaloader"
   ]
  },
  {
   "cell_type": "code",
   "execution_count": 2,
   "id": "0a85bddb",
   "metadata": {},
   "outputs": [],
   "source": [
    "#!pip install instagram-explore"
   ]
  },
  {
   "cell_type": "code",
   "execution_count": 3,
   "id": "20a1d446",
   "metadata": {},
   "outputs": [
    {
     "name": "stderr",
     "output_type": "stream",
     "text": [
      "c:\\ProgramData\\Anaconda3\\lib\\site-packages\\win_unicode_console\\__init__.py:31: RuntimeWarning: sys.stdin.encoding == 'utf-8', whereas sys.stdout.encoding == 'UTF-8', readline hook consumer may assume they are the same\n",
      "  readline_hook.enable(use_pyreadline=use_pyreadline)\n"
     ]
    }
   ],
   "source": [
    "import instaloader\n",
    "import pandas as pd\n",
    "from itertools import islice\n",
    "from math import ceil\n",
    "from datetime import datetime\n",
    "from itertools import dropwhile, takewhile\n",
    "from instaloader import Instaloader, Profile\n",
    "import re"
   ]
  },
  {
   "cell_type": "code",
   "execution_count": 4,
   "id": "af710c34",
   "metadata": {},
   "outputs": [],
   "source": [
    "loader = instaloader.Instaloader()\n",
    "#loader.login('orthlane_w',passwd=\"i miss you\") : Sahar\n",
    "#loader.login('orthalne_s',passwd=\"1234orth\") : Sana\n",
    "#loader.login('Wiwiyet',passwd=\"Wiwiyet1234\") : Mail enis\n",
    "loader.login('Wiwiyet',passwd=\"Wiwiyet1234\")"
   ]
  },
  {
   "cell_type": "markdown",
   "id": "d2762d0a",
   "metadata": {},
   "source": [
    "l=['Trip','Fitness','Instafit','Nopainnogain','Sportmotivation','Training','Gift','Savetheplanet','Me','moi','Party','beauté','produitoffert','ootd','hygiéne','soin','codepromo','astuce','astucenaturelle','peau','marque','tester','viesaine','produits de beauté','storytime','finesse','Fashion vlog','food','outfit','instagood','fitness','summer','look','smile','beautiful','instagram','Instapic','daily','unboxing','produitoffert','vernis','baby','papa','styliste','Sexy']"
   ]
  },
  {
   "cell_type": "markdown",
   "id": "a1541ce8",
   "metadata": {},
   "source": [
    "'beauté et lifestyle','Makeup','Tutorialmakeup','Bodypositive','Vacation','Travel','Paradise','Fashionista','Travelgram','Followme','Instamood','Vlog','produit','esthétique dentaire','beauty','Instapic','promotion','Conseils Fashion','youtubeuse','youtubeusesfrancaises','été','festival','café','france', 'française','paris','sourire','instagrameuse','nouveautés','motivation','influenceur','influenceuse','Blogueuse','cheveux','mode','Parisienne','French','tendance','astucebeauté','astucesanté','instagood','love','beausourire','youtubeur','style','manucure','élégance','modéliste','Sublime','bisous','Splendide','féminine','Belle','vivante','gracieuse','professionnelle','créativité','mignonne','artistique','indépendante','maquillage','innovation','blanchimentdentaire','féminité','soin','produitbeauté','mariée','jeuxconcours','mariage','Giveaway','maman','volonté','femme','ongles','','','','','','','','','','',''"
   ]
  },
  {
   "cell_type": "code",
   "execution_count": 10,
   "id": "034b98e9",
   "metadata": {},
   "outputs": [
    {
     "name": "stderr",
     "output_type": "stream",
     "text": [
      "JSON Query to api/v1/users/web_profile_info/?username=ongles_glamour: 429 Too Many Requests [retrying; skip with ^C]\n",
      "Number of requests within last 10/11/20/22/30/60 minutes grouped by type:\n",
      "                              other:    1    1    1    1    1    1\n",
      " *                           iphone:    1    1    1    1    1   78\n",
      "Instagram responded with HTTP error \"429 - Too Many Requests\". Please\n",
      "do not run multiple instances of Instaloader in parallel or within\n",
      "short sequence. Also, do not use any Instagram App while Instaloader\n",
      "is running.\n",
      "The request will be retried in 30 minutes, at 12:43.\n"
     ]
    }
   ],
   "source": [
    "#Ajouter le mot choisi dans une liste\n",
    "mot='ongles'\n",
    "mots=[]\n",
    "mots.append(mot)\n",
    "\n",
    "#Extraction des profiles liés au mots clés \n",
    "profil_mots={}\n",
    "for i in (mots):\n",
    "    s=instaloader.TopSearchResults(loader.context,i).get_profiles()\n",
    "    l=[profile.username for profile in s]\n",
    "    profil_mots[i]=l\n",
    "\n",
    "#Extraction des informations liés au profile\n",
    "for valeur in profil_mots.values()  :\n",
    "    liste_1=[]\n",
    "    for k in valeur :\n",
    "        try:\n",
    "            profile = instaloader.Profile.from_username(loader.context,k)\n",
    "            _followers=(profile.followers)\n",
    "            _username=profile.username\n",
    "            _userid=(profile.userid)\n",
    "            _profile_pic=(profile.profile_pic_url)\n",
    "            _mediacount=(profile.mediacount)\n",
    "            _followees=(profile.followees)\n",
    "            _biography=(profile.biography)\n",
    "            _external_url=(profile.external_url)\n",
    "            _private=(profile.is_private)\n",
    "            _business_account=(profile.is_business_account)\n",
    "            _business_category_name=(profile.business_category_name)\n",
    "            #finding all valid emails using regex\n",
    "            email = re.findall(r\"[A-Za-z0-9_%+-.]+\"\n",
    "                            r\"@[A-Za-z0-9.-]+\"\n",
    "                            r\"\\.[A-Za-z]{2,5}\",_biography,flags=re.IGNORECASE)\n",
    "            \n",
    "            phone_pattern = re.compile(r'((?:\\+\\d{2}[-.\\s]?(?:\\(0\\)|0)*?[-.\\s]?|00[-.\\s]?\\d{2}[-.\\s]?(?:\\(0\\)|0)*?[-.\\s]?|0)\\d?[-.\\s]?(?:\\d{2}[-.\\s]?){3,4})(?:$|\\D)')\n",
    "            phone = re.findall(phone_pattern,_biography)\n",
    "\n",
    "            #localisation \n",
    "            Localisations = ['parisian','France', 'france', 'française', 'Française', 'French','Île-de-France','Cannes','cannes' ,'Paris', 'paris', 'Lyon', 'lyon','Brussels','Nantes', 'bruxelles', 'Marseille', 'marseille', 'Nice', 'nice', 'Toulouse', 'toulouse', 'Bordeaux', 'bordeaux', 'Caen', 'caen', 'Lille', 'lille']\n",
    "            liste_de_chaine = [] #split la chaine en mots\n",
    "            loc_cherchée = \" \" #final\n",
    "            _localisation = []\n",
    "            liste_de_chaine = _biography.split()\n",
    "            for e in liste_de_chaine:\n",
    "                for k in Localisations:\n",
    "                    if (e == k):\n",
    "                        loc_cherchée = e\n",
    "                        _localisation.append(loc_cherchée)\n",
    "            if (loc_cherchée == \" \"):\n",
    "                _localisation.append(\" \")\n",
    "            loc_cherchée = \" \"\n",
    "            \n",
    "            if (_followers>=3000):\n",
    "                Liste=[]\n",
    "                Liste.append(_username)\n",
    "                Liste.append(_userid)\n",
    "                Liste.append(_profile_pic)\n",
    "                Liste.append(_mediacount)\n",
    "                Liste.append(_followers) \n",
    "                Liste.append(_followees)\n",
    "                Liste.append(_biography)\n",
    "                Liste.append(_localisation)\n",
    "                Liste.append(email)\n",
    "                Liste.append(phone)\n",
    "                Liste.append(_external_url)\n",
    "                Liste.append(_private)\n",
    "                Liste.append(_business_account)\n",
    "                Liste.append(_business_category_name)\n",
    "                liste_1.append(Liste)\n",
    "            else:\n",
    "                pass\n",
    "            #Création d'un fichier csv pour stocker les données\n",
    "            path=['C:/Users/User/Desktop/orthlane/data_final/']\n",
    "            ext=['.csv']\n",
    "            a=path[0]+mots[0]+ext[0]\n",
    "            df=pd.DataFrame(liste_1,columns = ['Username','User ID','Picture','Number of posts','Followers','Followees','bio','Location','email','Phone','url externe','isPrivate','isBusiness','BusinessType'])\n",
    "            df.to_csv(a, index=False)\n",
    "        except :\n",
    "            pass\n"
   ]
  }
 ],
 "metadata": {
  "kernelspec": {
   "display_name": "Python 3.9.7 ('base')",
   "language": "python",
   "name": "python3"
  },
  "language_info": {
   "codemirror_mode": {
    "name": "ipython",
    "version": 3
   },
   "file_extension": ".py",
   "mimetype": "text/x-python",
   "name": "python",
   "nbconvert_exporter": "python",
   "pygments_lexer": "ipython3",
   "version": "3.9.7"
  },
  "vscode": {
   "interpreter": {
    "hash": "ad2bdc8ecc057115af97d19610ffacc2b4e99fae6737bb82f5d7fb13d2f2c186"
   }
  }
 },
 "nbformat": 4,
 "nbformat_minor": 5
}
